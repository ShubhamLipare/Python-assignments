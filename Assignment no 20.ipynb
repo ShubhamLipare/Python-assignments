{
 "cells": [
  {
   "cell_type": "code",
   "execution_count": 2,
   "id": "aa2cbe06",
   "metadata": {},
   "outputs": [
    {
     "data": {
      "text/plain": [
       "'oufszufbiubrg;beosugosgegostgbsgnsgbrtp'"
      ]
     },
     "execution_count": 2,
     "metadata": {},
     "output_type": "execute_result"
    }
   ],
   "source": [
    "#Q1\n",
    "df = open(\"abcd.txt\")\n",
    " \n",
    "# read file\n",
    "read = df.read()\n",
    " \n",
    "# return cursor to\n",
    "# the beginning\n",
    "# of the file.\n",
    "df.seek(0)\n",
    "read"
   ]
  },
  {
   "cell_type": "code",
   "execution_count": 4,
   "id": "c02768b9",
   "metadata": {},
   "outputs": [
    {
     "name": "stdout",
     "output_type": "stream",
     "text": [
      "Total Number of lines: 4\n"
     ]
    }
   ],
   "source": [
    "#Q2\n",
    "\n",
    "with open(r\"abcd.txt\", 'r') as fp:\n",
    "    lines = len(fp.readlines())\n",
    "    print('Total Number of lines:', lines)"
   ]
  },
  {
   "cell_type": "code",
   "execution_count": 5,
   "id": "e6de75f2",
   "metadata": {},
   "outputs": [
    {
     "name": "stdout",
     "output_type": "stream",
     "text": [
      "oufszufbiubrg;beosugosgegostgbsgnsgbrtp\n",
      "\n",
      "arrghthjyksrjyksy\n",
      "\n",
      "121432 sdgsjyjtg\n",
      "\n",
      "2456yfghfaffrs\n"
     ]
    }
   ],
   "source": [
    "#Q3\n",
    "import re\n",
    "file1 = open('abcd.txt','r')\n",
    "\n",
    "file2 = open('xyz.txt','w')\n",
    "\n",
    "for line in file1.readlines():\n",
    "    x = re.findall(\"^srt\", line)\n",
    "     \n",
    "    if not x:\n",
    "        print(line)\n",
    "        file2.write(line)\n",
    "         \n",
    "file1.close()\n",
    "file2.close()"
   ]
  },
  {
   "cell_type": "code",
   "execution_count": 6,
   "id": "f2343162",
   "metadata": {},
   "outputs": [],
   "source": [
    "#Q4\n",
    "outputFile = open('abcd.text', \"w\")\n",
    "inputFile = open('xyz.txt', \"r\")\n",
    "\n",
    "lines_seen_so_far = set()\n",
    "\n",
    "for line in inputFile:\n",
    "    if line not in lines_seen_so_far:\n",
    "        outputFile.write(line)\n",
    "        lines_seen_so_far.add(line)       \n",
    " \n",
    "inputFile.close()\n",
    "outputFile.close()"
   ]
  },
  {
   "cell_type": "code",
   "execution_count": 10,
   "id": "2199f7db",
   "metadata": {},
   "outputs": [
    {
     "name": "stdout",
     "output_type": "stream",
     "text": [
      "Something unexpected occurred!\n"
     ]
    }
   ],
   "source": [
    "#Q5\n",
    "import pickle\n",
    "  \n",
    "  \n",
    "try:\n",
    "    geeky_file = open('xyz.txt', 'r')\n",
    "    dictionary_list = pickle.load(xyz_file)\n",
    "      \n",
    "    for d in dictionary_list:\n",
    "        print(d)\n",
    "    xyz_file.close()\n",
    "  \n",
    "except:\n",
    "    print(\"Something unexpected occurred!\")"
   ]
  },
  {
   "cell_type": "code",
   "execution_count": null,
   "id": "71ed9422",
   "metadata": {},
   "outputs": [],
   "source": [
    "#Q6\n",
    "firstfile = input(\"Enter the name of first file \")\n",
    "secondfile = input(\"Enter the name of second file \")\n",
    "f1 = open(firstfile, 'r')\n",
    "f2 = open(secondfile, 'r')\n",
    "print('content of first file before appending -', f1.read())\n",
    "print('content of second file before appending -', f2.read())\n",
    "\n",
    "f1.close()\n",
    "f2.close()\n",
    "f1 = open(firstfile, 'a+')\n",
    "f2 = open(secondfile, 'r')\n",
    "\n",
    "f1.write(f2.read())\n",
    " \n",
    "f1.seek(0)\n",
    "f2.seek(0)\n",
    "\n",
    "print('content of first file after appending -', f1.read())\n",
    "print('content of second file after appending -', f2.read())\n",
    "\n",
    "f1.close()\n",
    "f2.close()"
   ]
  },
  {
   "cell_type": "code",
   "execution_count": null,
   "id": "7e3fab37",
   "metadata": {},
   "outputs": [],
   "source": [
    "#Q7\n",
    "fn = open('abcd.txt', 'r')\n",
    "fn1 = open('xyz.txt', 'w')\n",
    "cont = fn.readlines()\n",
    "type(cont)\n",
    "for i in range(0, len(cont)):\n",
    "    if(i % 2 ! = 0):\n",
    "        fn1.write(cont[i])\n",
    "    else:\n",
    "        pass\n",
    "\n",
    "fn1.close()\n",
    "\n",
    "fn1 = open('xyz.txt', 'r')\n",
    "\n",
    "cont1 = fn1.read()\n",
    "\n",
    "print(cont1)\n",
    "\n",
    "fn.close()\n",
    "fn1.close()"
   ]
  },
  {
   "cell_type": "code",
   "execution_count": null,
   "id": "75c8ee69",
   "metadata": {},
   "outputs": [],
   "source": [
    "#Q8\n",
    "data = data2 = \"\"\n",
    "with open('abcd.txt') as fp:\n",
    "    data = fp.read()\n",
    "\n",
    "with open('xyz.txt') as fp:\n",
    "    data2 = fp.read()\n",
    "data += \"\\n\"\n",
    "data += data2\n",
    "  \n",
    "with open ('file3.txt', 'w') as fp:\n",
    "    fp.write(data)"
   ]
  },
  {
   "cell_type": "code",
   "execution_count": null,
   "id": "2eceab97",
   "metadata": {},
   "outputs": [],
   "source": [
    "#Q9\n",
    "f = open('xyz.txt', 'r')\n",
    "\n",
    "lines = f.readlines()\n",
    "f.close()\n",
    "\n",
    "choice = 1\n",
    "\n",
    "line = lines[choice].split()\n",
    "\n",
    "Reversed = \" \".join(line[::-1])\n",
    "\n",
    "lines.pop(choice)\n",
    "lines.insert(choice, Reversed)\n",
    "\n",
    "u = open('xyz.txt', 'w')\n",
    "  \n",
    "u.writelines(lines)\n",
    "u.close()"
   ]
  },
  {
   "cell_type": "code",
   "execution_count": null,
   "id": "a4176ef7",
   "metadata": {},
   "outputs": [],
   "source": [
    "#Q10\n",
    "f1 = open(\"abcd.txt\", \"w\")\n",
    "with open(\"file.txt\", \"r\") as myfile:\n",
    "    data = myfile.read()\n",
    "\n",
    "data_1 = data[::-1]\n",
    "\n",
    "f1.write(data_1)\n",
    "  \n",
    "f1.close()"
   ]
  }
 ],
 "metadata": {
  "kernelspec": {
   "display_name": "Python 3 (ipykernel)",
   "language": "python",
   "name": "python3"
  },
  "language_info": {
   "codemirror_mode": {
    "name": "ipython",
    "version": 3
   },
   "file_extension": ".py",
   "mimetype": "text/x-python",
   "name": "python",
   "nbconvert_exporter": "python",
   "pygments_lexer": "ipython3",
   "version": "3.9.7"
  }
 },
 "nbformat": 4,
 "nbformat_minor": 5
}
