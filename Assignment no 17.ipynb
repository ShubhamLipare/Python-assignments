{
 "cells": [
  {
   "cell_type": "code",
   "execution_count": 1,
   "id": "71f9000e",
   "metadata": {},
   "outputs": [
    {
     "name": "stdout",
     "output_type": "stream",
     "text": [
      "2 : 25\n",
      "Both are same times\n"
     ]
    }
   ],
   "source": [
    "#Q1\n",
    "def difference(h1, m1, h2, m2):\n",
    "      \n",
    "\n",
    "    t1 = h1 * 60 + m1\n",
    "      \n",
    "    t2 = h2 * 60 + m2\n",
    "      \n",
    "    if (t1 == t2): \n",
    "        print(\"Both are same times\")\n",
    "        return \n",
    "    else:\n",
    "          \n",
    "        diff = t2-t1\n",
    "          \n",
    "\n",
    "    h = (int(diff / 60)) % 24\n",
    "      \n",
    "    m = diff % 60\n",
    "  \n",
    "    print(h, \":\", m)\n",
    "  \n",
    "\n",
    "      \n",
    "difference(7, 20, 9, 45)\n",
    "difference(16, 20, 16, 20)"
   ]
  },
  {
   "cell_type": "code",
   "execution_count": 2,
   "id": "f9c61d8c",
   "metadata": {},
   "outputs": [],
   "source": [
    "#Q2\n",
    "import time\n",
    "  \n",
    "starttime=time.time()\n",
    "lasttime=starttime\n",
    "lapnum=1\n",
    "  \n",
    "print(\"Press ENTER to count laps.\\nPress CTRL+C to stop\")\n",
    "  \n",
    "try:\n",
    "     while True:\n",
    "\n",
    "          input()\n",
    "          laptime=round((time.time() - lasttime), 2)\n",
    "\n",
    "          totaltime=round((time.time() - starttime), 2)\n",
    "\n",
    "          print(\"Lap No. \"+str(lapnum)) \n",
    "          print(\"Total Time: \"+str(totaltime))\n",
    "          print(\"Lap Time: \"+str(laptime))\n",
    "            \n",
    "          print(\"*\"*20)\n",
    "\n",
    "          lasttime=time.time()\n",
    "          lapnum+=1\n",
    "\n",
    "except KeyboardInterrupt:\n",
    "     print(\"Done\")"
   ]
  },
  {
   "cell_type": "code",
   "execution_count": 3,
   "id": "542fcff9",
   "metadata": {},
   "outputs": [
    {
     "name": "stdout",
     "output_type": "stream",
     "text": [
      "The date string is :\n",
      "24/03/2021\n",
      "The timestamp is :\n",
      "1616524200.0\n"
     ]
    }
   ],
   "source": [
    "#Q3\n",
    "import time\n",
    "import datetime\n",
    "\n",
    "my_string = \"24/03/2021\"\n",
    "print(\"The date string is :\")\n",
    "print(my_string)\n",
    "print(\"The timestamp is :\")\n",
    "print(time.mktime(datetime.datetime.strptime(my_string, \"%d/%m/%Y\").timetuple()))\n"
   ]
  },
  {
   "cell_type": "code",
   "execution_count": 4,
   "id": "89fd449e",
   "metadata": {},
   "outputs": [
    {
     "name": "stdout",
     "output_type": "stream",
     "text": [
      "date_time: 2006-02-25 05:30:00\n",
      "type of dt: <class 'datetime.datetime'>\n"
     ]
    }
   ],
   "source": [
    "#Q4\n",
    "\n",
    "from datetime import datetime\n",
    "  \n",
    "  \n",
    "timestamp = 1545730073\n",
    "dt_obj = datetime.fromtimestamp(1140825600)\n",
    "  \n",
    "print(\"date_time:\",dt_obj)\n",
    "print(\"type of dt:\",type(dt_obj))"
   ]
  },
  {
   "cell_type": "code",
   "execution_count": 11,
   "id": "684c31ff",
   "metadata": {},
   "outputs": [
    {
     "name": "stdout",
     "output_type": "stream",
     "text": [
      "Monday   4\n",
      "Tuesday   4\n",
      "Wednesday   4\n",
      "Thursday   5\n",
      "Friday   5\n",
      "Saturday   5\n",
      "Sunday   4\n"
     ]
    }
   ],
   "source": [
    "#Q5\n",
    "import math\n",
    "def num_of_occurrence( n, firstday):\n",
    "\n",
    "   my_days = [ \"Monday\", \"Tuesday\", \"Wednesday\", \"Thursday\", \"Friday\", \"Saturday\",\"Sunday\" ]\n",
    "\n",
    "   my_count= [4 for i in range(0,7)]\n",
    "\n",
    "   my_position = -1\n",
    "   for i in range(0,7):\n",
    "      if (first_day == my_days[i]):\n",
    "         my_position = i\n",
    "         break\n",
    "\n",
    "   inc = n - 28\n",
    "\n",
    "   for i in range( my_position, my_position + inc):\n",
    "      if (i > 6):\n",
    "         my_count[i % 7] = 5\n",
    "      else:\n",
    "         my_count[i] = 5\n",
    "\n",
    "   for i in range(0,7):\n",
    "      print (my_days[i] , \" \" , my_count[i])\n",
    "\n",
    "num = 31\n",
    "first_day = \"Thursday\"\n",
    "num_of_occurrence(num, first_day)"
   ]
  },
  {
   "cell_type": "code",
   "execution_count": 12,
   "id": "8c9bb7e3",
   "metadata": {},
   "outputs": [
    {
     "name": "stdout",
     "output_type": "stream",
     "text": [
      "Valid String\n",
      "Invalid String\n"
     ]
    }
   ],
   "source": [
    "#Q6\n",
    "import re\n",
    "  \n",
    "  \n",
    "def check(str, pattern):\n",
    "\n",
    "    if re.search(pattern, str):\n",
    "        print(\"Valid String\")\n",
    "    else:\n",
    "        print(\"Invalid String\")\n",
    "  \n",
    "pattern = re.compile('^[1234]+$')\n",
    "check('2134', pattern)\n",
    "check('349', pattern)"
   ]
  },
  {
   "cell_type": "code",
   "execution_count": 13,
   "id": "af74b049",
   "metadata": {},
   "outputs": [
    {
     "name": "stdout",
     "output_type": "stream",
     "text": [
      "The no. of uppercase characters is 1\n",
      "The no. of lowercase characters is 10\n",
      "The no. of numerical characters is 4\n",
      "The no. of special characters is 5\n"
     ]
    }
   ],
   "source": [
    "#Q7\n",
    "\n",
    "import re\n",
    " \n",
    " \n",
    "string = \"This is radio 91.03 :)\"\n",
    "\n",
    "uppercase_characters = re.findall(r\"[A-Z]\", string)\n",
    "lowercase_characters = re.findall(r\"[a-z]\", string)\n",
    "numerical_characters = re.findall(r\"[0-9]\", string)\n",
    "special_characters = re.findall(r\"[, .!?]\", string)\n",
    " \n",
    "print(\"The no. of uppercase characters is\", len(uppercase_characters))\n",
    "print(\"The no. of lowercase characters is\", len(lowercase_characters))\n",
    "print(\"The no. of numerical characters is\", len(numerical_characters))\n",
    "print(\"The no. of special characters is\", len(special_characters))"
   ]
  },
  {
   "cell_type": "code",
   "execution_count": 18,
   "id": "92f24642",
   "metadata": {},
   "outputs": [
    {
     "name": "stdout",
     "output_type": "stream",
     "text": [
      "67\n"
     ]
    }
   ],
   "source": [
    "#Q8\n",
    "import re \n",
    "from collections import Counter \n",
    "  \n",
    "def most_occr_element(word):\n",
    "\n",
    "    arr = re.findall(r'[0-9]+', word)    \n",
    "\n",
    "    maxm = 0  \n",
    " \n",
    "    max_elem = 0\n",
    "      \n",
    "\n",
    "    c = Counter(arr)\n",
    "\n",
    "    for x in list(c.keys()):\n",
    "  \n",
    "        if c[x]>= maxm:\n",
    "            maxm = c[x]\n",
    "            max_elem = int(x)\n",
    "                  \n",
    "    return max_elem\n",
    "\n",
    "\n",
    "word = 'good 67is better 67and better is best'\n",
    "print(most_occr_element(word))"
   ]
  },
  {
   "cell_type": "code",
   "execution_count": 20,
   "id": "13a97a88",
   "metadata": {},
   "outputs": [
    {
     "name": "stdout",
     "output_type": "stream",
     "text": [
      "564\n"
     ]
    }
   ],
   "source": [
    "#Q9\n",
    "import re\n",
    " \n",
    "def extractMax(input):\n",
    "     numbers = re.findall('\\d+',input)\n",
    "     numbers = map(int,numbers)\n",
    " \n",
    "     print (max(numbers))\n",
    " \n",
    "\n",
    "input = '100klh564abc365bg'\n",
    "extractMax(input)"
   ]
  },
  {
   "cell_type": "code",
   "execution_count": 22,
   "id": "a51b634c",
   "metadata": {},
   "outputs": [
    {
     "name": "stdout",
     "output_type": "stream",
     "text": [
      "chris is captain america\n"
     ]
    }
   ],
   "source": [
    "#Q10\n",
    "import re\n",
    "   \n",
    "def putSpace(input):\n",
    "\n",
    "    words = re.findall('[A-Z][a-z]*', input)\n",
    "\n",
    "    for i in range(0,len(words)):\n",
    "      words[i]=words[i][0].lower()+words[i][1:]\n",
    "    print(' '.join(words))\n",
    "     \n",
    "\n",
    "input = 'ChrisIsCaptainAmerica'\n",
    "putSpace(input)"
   ]
  }
 ],
 "metadata": {
  "kernelspec": {
   "display_name": "Python 3 (ipykernel)",
   "language": "python",
   "name": "python3"
  },
  "language_info": {
   "codemirror_mode": {
    "name": "ipython",
    "version": 3
   },
   "file_extension": ".py",
   "mimetype": "text/x-python",
   "name": "python",
   "nbconvert_exporter": "python",
   "pygments_lexer": "ipython3",
   "version": "3.9.7"
  }
 },
 "nbformat": 4,
 "nbformat_minor": 5
}
