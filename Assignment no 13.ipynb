{
 "cells": [
  {
   "cell_type": "code",
   "execution_count": 1,
   "id": "3113ce0d",
   "metadata": {},
   "outputs": [
    {
     "name": "stdout",
     "output_type": "stream",
     "text": [
      "The original list is : [(5, 6), (5, 7), (6, 8), (6, 10), (7, 13)]\n",
      "The extracted elements : [(5, 6, 7), (6, 8, 10), (7, 13)]\n"
     ]
    }
   ],
   "source": [
    "#Q1\n",
    "test_list = [(5, 6), (5, 7), (6, 8), (6, 10), (7, 13)]\n",
    "\n",
    "print(\"The original list is : \" + str(test_list))\n",
    " \n",
    "\n",
    "res = []\n",
    "for sub in test_list:                                          \n",
    "    if res and res[-1][0] == sub[0]:             \n",
    "        res[-1].extend(sub[1:])                       \n",
    "    else:\n",
    "        res.append([ele for ele in sub])    \n",
    "res = list(map(tuple, res))\n",
    "print(\"The extracted elements : \" + str(res))"
   ]
  },
  {
   "cell_type": "code",
   "execution_count": 2,
   "id": "e08ac539",
   "metadata": {},
   "outputs": [
    {
     "name": "stdout",
     "output_type": "stream",
     "text": [
      "The original list is : [(15, 3), (3, 9), (1, 10), (99, 2)]\n",
      "The extracted digits : [5, 1, 3, 2, 0, 9]\n"
     ]
    }
   ],
   "source": [
    "#Q2\n",
    "test_list = [(15, 3), (3, 9), (1, 10), (99, 2)]\n",
    " \n",
    "print(\"The original list is : \" + str(test_list))\n",
    "x=\"\"\n",
    "for i in test_list:\n",
    "    for j in i:\n",
    "        x+=str(j)\n",
    "res=list(map(int,set(x)))\n",
    "\n",
    "print(\"The extracted digits : \" + str(res))"
   ]
  },
  {
   "cell_type": "code",
   "execution_count": 3,
   "id": "a76c3a42",
   "metadata": {},
   "outputs": [
    {
     "name": "stdout",
     "output_type": "stream",
     "text": [
      "The original tuple 1 : (4, 5)\n",
      "The original tuple 2 : (7, 8)\n",
      "The filtered tuple : [(4, 7), (4, 8), (5, 7), (5, 8), (7, 4), (7, 5), (8, 4), (8, 5)]\n"
     ]
    }
   ],
   "source": [
    "#Q3\n",
    "test_tuple1 = (4, 5)\n",
    "test_tuple2 = (7, 8)\n",
    "  \n",
    "print(\"The original tuple 1 : \" + str(test_tuple1))\n",
    "print(\"The original tuple 2 : \" + str(test_tuple2))\n",
    "  \n",
    "res =  [(a, b) for a in test_tuple1 for b in test_tuple2]\n",
    "res = res +  [(a, b) for a in test_tuple2 for b in test_tuple1]\n",
    "  \n",
    "print(\"The filtered tuple : \" + str(res))"
   ]
  },
  {
   "cell_type": "code",
   "execution_count": 4,
   "id": "7bb1afaa",
   "metadata": {},
   "outputs": [
    {
     "name": "stdout",
     "output_type": "stream",
     "text": [
      "The original list : [(4, 5), (4,), (8, 6, 7), (1,), (3, 4, 6, 7)]\n",
      "Filtered list : [(4, 5), (8, 6, 7), (3, 4, 6, 7)]\n"
     ]
    }
   ],
   "source": [
    "#Q4\n",
    "test_list = [(4, 5), (4, ), (8, 6, 7), (1, ), (3, 4, 6, 7)]\n",
    "\n",
    "print(\"The original list : \" + str(test_list))\n",
    "  \n",
    "K = 1\n",
    "res = [ele for ele in test_list if len(ele) != K]\n",
    "  \n",
    "print(\"Filtered list : \" + str(res))"
   ]
  },
  {
   "cell_type": "code",
   "execution_count": 8,
   "id": "55958454",
   "metadata": {},
   "outputs": [
    {
     "name": "stdout",
     "output_type": "stream",
     "text": [
      "[('akash', 5), ('rishav', 10), ('gaurav', 15), ('ram', 20)]\n"
     ]
    }
   ],
   "source": [
    "#Q5\n",
    "def Sort_Tuple(tup):\n",
    "    tup.sort(key = lambda x: x[1])\n",
    "    return tup\n",
    "\n",
    "tup = [('rishav', 10), ('akash', 5), ('ram', 20), ('gaurav', 15)]\n",
    " \n",
    "print(Sort_Tuple(tup))"
   ]
  },
  {
   "cell_type": "code",
   "execution_count": 11,
   "id": "d44318d8",
   "metadata": {},
   "outputs": [
    {
     "name": "stdout",
     "output_type": "stream",
     "text": [
      "The original list is : [('ineuron', 3), ('best', 9), ('BA', 10), ('ML', 2)]\n",
      "The ordered tuple list : [('ineuron', 3), ('best', 9), ('ML', 2), ('BA', 10)]\n"
     ]
    }
   ],
   "source": [
    "#Q6\n",
    "test_list = [('ineuron', 3), ('best', 9), ('BA', 10), ('ML', 2)]\n",
    "\n",
    "print(\"The original list is : \" + str(test_list))\n",
    " \n",
    "ord_list = ['ineuron', 'best', 'ML', 'BA']\n",
    " \n",
    "\n",
    "temp = dict(test_list)\n",
    "res = [(key, temp[key]) for key in ord_list]\n",
    " \n",
    "\n",
    "print(\"The ordered tuple list : \" + str(res))"
   ]
  },
  {
   "cell_type": "code",
   "execution_count": 12,
   "id": "99e8080b",
   "metadata": {},
   "outputs": [
    {
     "name": "stdout",
     "output_type": "stream",
     "text": [
      "The original tuple : ([5, 6], [6, 7, 8, 9], [3])\n",
      "The flattened tuple : (5, 6, 6, 7, 8, 9, 3)\n"
     ]
    }
   ],
   "source": [
    "#Q7\n",
    "test_tuple = ([5, 6], [6, 7, 8, 9], [3])\n",
    " \n",
    "print(\"The original tuple : \" + str(test_tuple))\n",
    " \n",
    "res = tuple(sum(test_tuple, []))\n",
    " \n",
    "print(\"The flattened tuple : \" + str(res))"
   ]
  },
  {
   "cell_type": "code",
   "execution_count": 14,
   "id": "f54d01d2",
   "metadata": {},
   "outputs": [
    {
     "name": "stdout",
     "output_type": "stream",
     "text": [
      "The original tuple : ((4, 'ineuron', 10), (3, 'is', 8), (6, 'Best', 10))\n",
      "The converted dictionary : [{'key': 4, 'value': 'ineuron', 'id': 10}, {'key': 3, 'value': 'is', 'id': 8}, {'key': 6, 'value': 'Best', 'id': 10}]\n"
     ]
    }
   ],
   "source": [
    "#Q8\n",
    "test_tuple = ((4, 'ineuron', 10), (3, 'is', 8), (6, 'Best', 10))\n",
    "\n",
    "print(\"The original tuple : \" + str(test_tuple))\n",
    "  \n",
    "\n",
    "res = [{'key': sub[0], 'value': sub[1], 'id': sub[2]} \n",
    "                               for sub in test_tuple]\n",
    "\n",
    "print(\"The converted dictionary : \" + str(res))"
   ]
  },
  {
   "cell_type": "code",
   "execution_count": 15,
   "id": "b0eb08f8",
   "metadata": {},
   "outputs": [
    {
     "name": "stdout",
     "output_type": "stream",
     "text": [
      "Element is present at index 3\n"
     ]
    }
   ],
   "source": [
    "#Q9\n",
    "def binary_search(arr, x):\n",
    "    low = 0\n",
    "    high = len(arr) - 1\n",
    "    mid = 0\n",
    " \n",
    "    while low <= high:\n",
    " \n",
    "        mid = (high + low) // 2\n",
    " \n",
    "        if arr[mid] < x:\n",
    "            low = mid + 1\n",
    " \n",
    "        elif arr[mid] > x:\n",
    "            high = mid - 1\n",
    " \n",
    "        else:\n",
    "            return mid\n",
    " \n",
    "    return -1\n",
    " \n",
    " \n",
    "\n",
    "arr = [ 2, 3, 4, 10, 40 ]\n",
    "x = 10\n",
    " \n",
    "\n",
    "result = binary_search(arr, x)\n",
    " \n",
    "if result != -1:\n",
    "    print(\"Element is present at index\", str(result))\n",
    "else:\n",
    "    print(\"Element is not present in array\")"
   ]
  },
  {
   "cell_type": "code",
   "execution_count": 20,
   "id": "2cbe4bf6",
   "metadata": {},
   "outputs": [
    {
     "data": {
      "text/plain": [
       "2"
      ]
     },
     "execution_count": 20,
     "metadata": {},
     "output_type": "execute_result"
    }
   ],
   "source": [
    "#Q10\n",
    "def search(arr, x):\n",
    " \n",
    "    for i in range(len(arr)):\n",
    " \n",
    "        if arr[i] == x:\n",
    "            return i\n",
    " \n",
    "    return 1\n",
    "arr=[1,5,7,8,5,4,62,45]\n",
    "x=7\n",
    "search(arr,x)"
   ]
  },
  {
   "cell_type": "code",
   "execution_count": 22,
   "id": "fce26dad",
   "metadata": {},
   "outputs": [
    {
     "name": "stdout",
     "output_type": "stream",
     "text": [
      "Sorted array is : \n",
      "[5, 6, 11, 12, 13]\n"
     ]
    }
   ],
   "source": [
    "#Q11\n",
    "def insertionSort(arr):\n",
    "\n",
    "    for i in range(1, len(arr)):\n",
    " \n",
    "        key = arr[i]\n",
    "        j = i-1\n",
    "        while j >=0 and key < arr[j] :\n",
    "                arr[j+1] = arr[j]\n",
    "                j -= 1\n",
    "        arr[j+1] = key\n",
    " \n",
    " \n",
    "\n",
    "arr = [12, 11, 13, 5, 6]\n",
    "insertionSort(arr)   \n",
    "lst = [] \n",
    "print(\"Sorted array is : \")\n",
    "for i in range(len(arr)):\n",
    "  lst.append(arr[i])       \n",
    "print(lst)"
   ]
  }
 ],
 "metadata": {
  "kernelspec": {
   "display_name": "Python 3 (ipykernel)",
   "language": "python",
   "name": "python3"
  },
  "language_info": {
   "codemirror_mode": {
    "name": "ipython",
    "version": 3
   },
   "file_extension": ".py",
   "mimetype": "text/x-python",
   "name": "python",
   "nbconvert_exporter": "python",
   "pygments_lexer": "ipython3",
   "version": "3.9.7"
  }
 },
 "nbformat": 4,
 "nbformat_minor": 5
}
