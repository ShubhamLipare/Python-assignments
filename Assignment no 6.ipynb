{
 "cells": [
  {
   "cell_type": "code",
   "execution_count": 4,
   "id": "19e0bb59",
   "metadata": {},
   "outputs": [
    {
     "name": "stdout",
     "output_type": "stream",
     "text": [
      "[2, 4, 6]\n",
      "[8, 10, 12]\n",
      "[14, 16, 18]\n"
     ]
    }
   ],
   "source": [
    "#Q1\n",
    "\n",
    "x=[[1,2,3],\n",
    "  [4,5,6],\n",
    "  [7,8,9]]\n",
    "y=[[1,2,3],\n",
    "  [4,5,6],\n",
    "  [7,8,9]]\n",
    "result=[[0,0,0],\n",
    "       [0,0,0],\n",
    "        [0,0,0]]\n",
    "for i in range(len(x)):\n",
    "    for j in range(len(x[0])):\n",
    "        result[i][j]=x[i][j]+y[i][j]\n",
    "for r in result:\n",
    "    print(r)"
   ]
  },
  {
   "cell_type": "code",
   "execution_count": 6,
   "id": "cbf0ac66",
   "metadata": {},
   "outputs": [
    {
     "name": "stdout",
     "output_type": "stream",
     "text": [
      "[30, 36, 42]\n",
      "[66, 81, 96]\n",
      "[102, 126, 150]\n"
     ]
    }
   ],
   "source": [
    "#Q2\n",
    "\n",
    "x=[[1,2,3],\n",
    "  [4,5,6],\n",
    "  [7,8,9]]\n",
    "y=[[1,2,3],\n",
    "  [4,5,6],\n",
    "  [7,8,9]]\n",
    "result=[[0,0,0],\n",
    "       [0,0,0],\n",
    "        [0,0,0]]\n",
    "for i in range(len(x)):\n",
    "    for j in range(len(y[0])):\n",
    "        for k in range(len(y)):\n",
    "            result[i][j]+=x[i][k]*y[k][j]\n",
    "for r in result:\n",
    "    print(r)"
   ]
  },
  {
   "cell_type": "code",
   "execution_count": 3,
   "id": "7eeada4c",
   "metadata": {},
   "outputs": [
    {
     "name": "stdout",
     "output_type": "stream",
     "text": [
      "[114 160  60  27]\n",
      "[74 97 73 14]\n",
      "[119 157 112  23]\n"
     ]
    }
   ],
   "source": [
    "#Q3\n",
    "import numpy as np\n",
    "A = [[12, 7, 3],\n",
    "    [4, 5, 6],\n",
    "    [7, 8, 9]]\n",
    " \n",
    "B = [[5, 8, 1, 2],\n",
    "    [6, 7, 3, 0],\n",
    "    [4, 5, 9, 1]]\n",
    "\n",
    " \n",
    "result= [[0,0,0,0],\n",
    "        [0,0,0,0],\n",
    "        [0,0,0,0]]\n",
    " \n",
    "result = np.dot(A,B)\n",
    " \n",
    "for r in result:\n",
    "    print(r)\n"
   ]
  },
  {
   "cell_type": "code",
   "execution_count": 5,
   "id": "5d75cc00",
   "metadata": {},
   "outputs": [
    {
     "name": "stdout",
     "output_type": "stream",
     "text": [
      "Printing elements of first matrix\n",
      "[[1 2]\n",
      " [3 4]]\n",
      "Printing elements of second matrix\n",
      "[[4 5]\n",
      " [6 7]]\n",
      "Addition of two matrix\n",
      "[[ 5  7]\n",
      " [ 9 11]]\n",
      "Subtraction of two matrix\n",
      "[[-3 -3]\n",
      " [-3 -3]]\n"
     ]
    }
   ],
   "source": [
    "#Q4\n",
    "import numpy as np\n",
    "  \n",
    "  \n",
    "A = np.array([[1, 2], [3, 4]])\n",
    "  \n",
    "B = np.array([[4, 5], [6, 7]])\n",
    "  \n",
    "print(\"Printing elements of first matrix\")\n",
    "print(A)\n",
    "print(\"Printing elements of second matrix\")\n",
    "print(B)\n",
    "  \n",
    "print(\"Addition of two matrix\")\n",
    "print(np.add(A, B))\n",
    "\n",
    "print(\"Subtraction of two matrix\")\n",
    "print(np.subtract(A,B))"
   ]
  },
  {
   "cell_type": "code",
   "execution_count": 7,
   "id": "1f5426a0",
   "metadata": {},
   "outputs": [
    {
     "name": "stdout",
     "output_type": "stream",
     "text": [
      "[[1, 2, 3], [4, 5, 6]]\n",
      "\n",
      "\n",
      "[[1 4]\n",
      " [2 5]\n",
      " [3 6]]\n"
     ]
    }
   ],
   "source": [
    "#Q5\n",
    "import numpy \n",
    "matrix=[[1,2,3],[4,5,6]]\n",
    "print(matrix)\n",
    "print(\"\\n\")\n",
    "print(numpy.transpose(matrix))"
   ]
  },
  {
   "cell_type": "code",
   "execution_count": 9,
   "id": "c5616b88",
   "metadata": {},
   "outputs": [
    {
     "name": "stdout",
     "output_type": "stream",
     "text": [
      "The dimension : 4\n",
      "The created matrix of N * N: [[1, 2, 3, 4], [5, 6, 7, 8], [9, 10, 11, 12], [13, 14, 15, 16]]\n"
     ]
    }
   ],
   "source": [
    "#Q6\n",
    "\n",
    "N = 4\n",
    "\n",
    "print(\"The dimension : \" + str(N))\n",
    "  \n",
    "res = [list(range(1 + N * i, 1 + N * (i + 1)))\n",
    "                            for i in range(N)]\n",
    "  \n",
    "print(\"The created matrix of N * N: \" + str(res))"
   ]
  },
  {
   "cell_type": "code",
   "execution_count": 11,
   "id": "524841a4",
   "metadata": {},
   "outputs": [
    {
     "name": "stdout",
     "output_type": "stream",
     "text": [
      "The original list is : [[4, 5, 6], [8, 1, 10], [7, 12, 5]]\n",
      "The Kth column of matrix is : [5, 1, 12]\n"
     ]
    }
   ],
   "source": [
    "#Q7\n",
    "\n",
    "test_list = [[4, 5, 6], [8, 1, 10], [7, 12, 5]]\n",
    "  \n",
    "print(\"The original list is : \" + str(test_list))\n",
    "  \n",
    "K = 2\n",
    "  \n",
    "res = [sub[K-1] for sub in test_list]\n",
    "\n",
    "print(\"The Kth column of matrix is : \" + str(res))"
   ]
  },
  {
   "cell_type": "code",
   "execution_count": 14,
   "id": "5ae02b41",
   "metadata": {},
   "outputs": [
    {
     "name": "stdout",
     "output_type": "stream",
     "text": [
      "The original list : [['ineuron', 'good'], ['is', 'for'], ['business', 'analyst']]\n",
      "List after column Concatenation : ['ineuronisbusiness', 'goodforanalyst']\n"
     ]
    }
   ],
   "source": [
    "#Q8\n",
    "test_list = [[\"ineuron\", \"good\"], [\"is\", \"for\"], [\"business\",\"analyst\"]]\n",
    "  \n",
    "print(\"The original list : \" + str(test_list))\n",
    "  \n",
    "res = []\n",
    "N = 0\n",
    "while N != len(test_list):\n",
    "    temp = ''\n",
    "    for idx in test_list:\n",
    "        try: temp = temp + idx[N]\n",
    "        except IndexError: pass\n",
    "    res.append(temp)\n",
    "    N = N + 1\n",
    "  \n",
    "res = [ele for ele in res if ele]\n",
    "  \n",
    "\n",
    "print(\"List after column Concatenation : \" + str(res))"
   ]
  },
  {
   "cell_type": "code",
   "execution_count": 15,
   "id": "6868c3c4",
   "metadata": {},
   "outputs": [
    {
     "name": "stdout",
     "output_type": "stream",
     "text": [
      "Yes\n"
     ]
    }
   ],
   "source": [
    "#Q9\n",
    "def isPalindrome(s):\n",
    "    return s == s[::-1]\n",
    " \n",
    " \n",
    "s = \"malayalam\"\n",
    "ans = isPalindrome(s)\n",
    " \n",
    "if ans:\n",
    "    print(\"Yes\")\n",
    "else:\n",
    "    print(\"No\")"
   ]
  },
  {
   "cell_type": "code",
   "execution_count": 16,
   "id": "be17182d",
   "metadata": {},
   "outputs": [
    {
     "name": "stdout",
     "output_type": "stream",
     "text": [
      "abcabc\n",
      "symmetrical\n",
      "abcdab\n",
      "not symmetrical\n"
     ]
    }
   ],
   "source": [
    "#Q10\n",
    "def check_sym(string):\n",
    "    n=len(string)\n",
    "    flag=0\n",
    "    if n%2:\n",
    "        mid=n//2+1\n",
    "    else:\n",
    "        mid= n//2\n",
    "    start=0\n",
    "    end= mid\n",
    "    while(start <mid and end<n):\n",
    "        if(string[start]== string[end]):\n",
    "            start= start+1\n",
    "            end= end+1\n",
    "        else:\n",
    "            flag=1\n",
    "            break\n",
    "    if flag==0:\n",
    "        print(\"symmetrical\")\n",
    "    else:\n",
    "        print(\"not symmetrical\")\n",
    "\n",
    "s= \"abcabc\"\n",
    "print (s)\n",
    "check_sym(s)\n",
    "s2= \"abcdab\"\n",
    "print(s2)\n",
    "check_sym(s2)"
   ]
  },
  {
   "cell_type": "code",
   "execution_count": null,
   "id": "75f7f8c5",
   "metadata": {},
   "outputs": [],
   "source": []
  }
 ],
 "metadata": {
  "kernelspec": {
   "display_name": "Python 3 (ipykernel)",
   "language": "python",
   "name": "python3"
  },
  "language_info": {
   "codemirror_mode": {
    "name": "ipython",
    "version": 3
   },
   "file_extension": ".py",
   "mimetype": "text/x-python",
   "name": "python",
   "nbconvert_exporter": "python",
   "pygments_lexer": "ipython3",
   "version": "3.9.7"
  }
 },
 "nbformat": 4,
 "nbformat_minor": 5
}
