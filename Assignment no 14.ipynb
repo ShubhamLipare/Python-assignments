{
 "cells": [
  {
   "cell_type": "code",
   "execution_count": 1,
   "id": "4667b47d",
   "metadata": {},
   "outputs": [
    {
     "name": "stdout",
     "output_type": "stream",
     "text": [
      "5 6 11 12 13 "
     ]
    }
   ],
   "source": [
    "#Q1\n",
    "def insertionSortRecursive(arr,n):\n",
    "    if n<=1:\n",
    "        return\n",
    "     \n",
    "    insertionSortRecursive(arr,n-1)\n",
    "    '''Insert last element at its correct position\n",
    "        in sorted array.'''\n",
    "    last = arr[n-1]\n",
    "    j = n-2\n",
    "     \n",
    "\n",
    "    while (j>=0 and arr[j]>last):\n",
    "        arr[j+1] = arr[j]\n",
    "        j = j-1\n",
    " \n",
    "    arr[j+1]=last\n",
    "     \n",
    "def printArray(arr,n):\n",
    "    for i in range(n):\n",
    "        print(arr[i],end=\" \")\n",
    " \n",
    "arr = [12,11,13,5,6]\n",
    "n = len(arr)\n",
    "insertionSortRecursive(arr, n)\n",
    "printArray(arr, n)"
   ]
  },
  {
   "cell_type": "code",
   "execution_count": 2,
   "id": "ef9a2114",
   "metadata": {},
   "outputs": [
    {
     "name": "stdout",
     "output_type": "stream",
     "text": [
      "[1, 2, 3, 4, 5]\n",
      "[1, 2, 2, 4, 4, 5, 6, 6, 7, 8]\n"
     ]
    }
   ],
   "source": [
    "#Q2\n",
    "def partition(l, r, nums):\n",
    "    pivot, ptr = nums[r], l\n",
    "    for i in range(l, r):\n",
    "        if nums[i] <= pivot:\n",
    "           \n",
    "            nums[i], nums[ptr] = nums[ptr], nums[i]\n",
    "            ptr += 1\n",
    "    nums[ptr], nums[r] = nums[r], nums[ptr]\n",
    "    return ptr\n",
    " \n",
    " \n",
    " \n",
    "def quicksort(l, r, nums):\n",
    "    if len(nums) == 1: \n",
    "        return nums\n",
    "    if l < r:\n",
    "        pi = partition(l, r, nums)\n",
    "        quicksort(l, pi-1, nums)\n",
    "        quicksort(pi+1, r, nums) \n",
    "    return nums\n",
    " \n",
    " \n",
    "example = [4, 5, 1, 2, 3]\n",
    "result = [1, 2, 3, 4, 5]\n",
    "print(quicksort(0, len(example)-1, example))\n",
    " \n",
    "example = [2, 5, 6, 1, 4, 6, 2, 4, 7, 8]\n",
    "result = [1, 2, 2, 4, 4, 5, 6, 6, 7, 8]\n",
    "print(quicksort(0, len(example)-1, example))"
   ]
  },
  {
   "cell_type": "code",
   "execution_count": 3,
   "id": "7f5ff883",
   "metadata": {},
   "outputs": [
    {
     "name": "stdout",
     "output_type": "stream",
     "text": [
      "Sorted array is:\n",
      "1\n",
      "2\n",
      "2\n",
      "3\n",
      "3\n",
      "3\n",
      "4\n",
      "5\n"
     ]
    }
   ],
   "source": [
    "#Q3\n",
    "def partition(arr,l,h):\n",
    "    i = ( l - 1 )\n",
    "    x = arr[h]\n",
    " \n",
    "    for j in range(l , h):\n",
    "        if   arr[j] <= x:\n",
    " \n",
    "            i = i+1\n",
    "            arr[i],arr[j] = arr[j],arr[i]\n",
    " \n",
    "    arr[i+1],arr[h] = arr[h],arr[i+1]\n",
    "    return (i+1)\n",
    " \n",
    "\n",
    "def quickSortIterative(arr,l,h):\n",
    " \n",
    "\n",
    "    size = h - l + 1\n",
    "    stack = [0] * (size)\n",
    "\n",
    "    top = -1\n",
    "\n",
    "    top = top + 1\n",
    "    stack[top] = l\n",
    "    top = top + 1\n",
    "    stack[top] = h\n",
    "\n",
    "    while top >= 0:\n",
    " \n",
    "        # Pop h and l\n",
    "        h = stack[top]\n",
    "        top = top - 1\n",
    "        l = stack[top]\n",
    "        top = top - 1\n",
    "\n",
    "        p = partition( arr, l, h )\n",
    " \n",
    "\n",
    "        if p-1 > l:\n",
    "            top = top + 1\n",
    "            stack[top] = l\n",
    "            top = top + 1\n",
    "            stack[top] = p - 1\n",
    " \n",
    "\n",
    "        if p+1 < h:\n",
    "            top = top + 1\n",
    "            stack[top] = p + 1\n",
    "            top = top + 1\n",
    "            stack[top] = h\n",
    "\n",
    "arr = [4, 3, 5, 2, 1, 3, 2, 3]\n",
    "n = len(arr)\n",
    "quickSortIterative(arr, 0, n-1)\n",
    "print (\"Sorted array is:\")\n",
    "for i in range(n):\n",
    "    print (\"%d\" %arr[i]),\n"
   ]
  },
  {
   "cell_type": "code",
   "execution_count": 4,
   "id": "3c746a87",
   "metadata": {},
   "outputs": [
    {
     "name": "stdout",
     "output_type": "stream",
     "text": [
      "The array after sorting in Ascending Order by selection sort is:\n",
      "[-202, -97, -9, -2, 0, 11, 45, 88, 747]\n"
     ]
    }
   ],
   "source": [
    "#Q4\n",
    "def selectionSort(array, size):\n",
    "    \n",
    "    for ind in range(size):\n",
    "        min_index = ind\n",
    " \n",
    "        for j in range(ind + 1, size):\n",
    "            if array[j] < array[min_index]:\n",
    "                min_index = j\n",
    "        (array[ind], array[min_index]) = (array[min_index], array[ind])\n",
    " \n",
    "arr = [-2, 45, 0, 11, -9,88,-97,-202,747]\n",
    "size = len(arr)\n",
    "selectionSort(arr, size)\n",
    "print('The array after sorting in Ascending Order by selection sort is:')\n",
    "print(arr)"
   ]
  },
  {
   "cell_type": "code",
   "execution_count": 5,
   "id": "bbb3250a",
   "metadata": {},
   "outputs": [
    {
     "name": "stdout",
     "output_type": "stream",
     "text": [
      "Sorted array is:\n",
      " 11  12  22  25  34  64  90 "
     ]
    }
   ],
   "source": [
    "#Q5\n",
    "def bubbleSort(arr):\n",
    "    n = len(arr)\n",
    "    swapped = False\n",
    "\n",
    "    for i in range(n-1):\n",
    "\n",
    "        for j in range(0, n-i-1):\n",
    "\n",
    "            if arr[j] > arr[j + 1]:\n",
    "                swapped = True\n",
    "                arr[j], arr[j + 1] = arr[j + 1], arr[j]\n",
    "         \n",
    "        if not swapped:\n",
    "\n",
    "            return\n",
    " \n",
    "\n",
    "arr = [64, 34, 25, 12, 22, 11, 90]\n",
    " \n",
    "bubbleSort(arr)\n",
    " \n",
    "print(\"Sorted array is:\")\n",
    "for i in range(len(arr)):\n",
    "    print(\"% d\" % arr[i], end=\" \")"
   ]
  },
  {
   "cell_type": "code",
   "execution_count": 6,
   "id": "f7d6ce5f",
   "metadata": {},
   "outputs": [
    {
     "name": "stdout",
     "output_type": "stream",
     "text": [
      "Given array is\n",
      "12 11 13 5 6 7 \n",
      "\n",
      "Sorted array is\n",
      "5 6 7 11 12 13 "
     ]
    }
   ],
   "source": [
    "#Q6\n",
    "def merge(arr, l, m, r):\n",
    "    n1 = m - l + 1\n",
    "    n2 = r - m\n",
    "    L = [0] * (n1)\n",
    "    R = [0] * (n2)\n",
    " \n",
    "\n",
    "    for i in range(0, n1):\n",
    "        L[i] = arr[l + i]\n",
    " \n",
    "    for j in range(0, n2):\n",
    "        R[j] = arr[m + 1 + j]\n",
    "    i = 0   \n",
    "    j = 0  \n",
    "    k = l    \n",
    " \n",
    "    while i < n1 and j < n2:\n",
    "        if L[i] <= R[j]:\n",
    "            arr[k] = L[i]\n",
    "            i += 1\n",
    "        else:\n",
    "            arr[k] = R[j]\n",
    "            j += 1\n",
    "        k += 1\n",
    "\n",
    "    while i < n1:\n",
    "        arr[k] = L[i]\n",
    "        i += 1\n",
    "        k += 1\n",
    "\n",
    "    while j < n2:\n",
    "        arr[k] = R[j]\n",
    "        j += 1\n",
    "        k += 1\n",
    " \n",
    " \n",
    "def mergeSort(arr, l, r):\n",
    "    if l < r:\n",
    "\n",
    "        m = l+(r-l)//2\n",
    "\n",
    "        mergeSort(arr, l, m)\n",
    "        mergeSort(arr, m+1, r)\n",
    "        merge(arr, l, m, r)\n",
    " \n",
    " \n",
    "arr = [12, 11, 13, 5, 6, 7]\n",
    "n = len(arr)\n",
    "print(\"Given array is\")\n",
    "for i in range(n):\n",
    "    print(\"%d\" % arr[i],end=\" \")\n",
    " \n",
    "mergeSort(arr, 0, n-1)\n",
    "print(\"\\n\\nSorted array is\")\n",
    "for i in range(n):\n",
    "    print(\"%d\" % arr[i],end=\" \")"
   ]
  },
  {
   "cell_type": "code",
   "execution_count": 9,
   "id": "94f669f8",
   "metadata": {},
   "outputs": [
    {
     "name": "stdout",
     "output_type": "stream",
     "text": [
      "Given array is\n",
      "[12, 11, 13, 5, 6, 7]\n",
      "\n",
      "\n",
      "Sorted array is\n",
      "[5, 6, 7, 11, 12, 13]\n"
     ]
    }
   ],
   "source": [
    "#Q7\n",
    "def merge(left, right):\n",
    "    if not len(left) or not len(right):\n",
    "        return left or right\n",
    "  \n",
    "    result = []\n",
    "    i, j = 0, 0\n",
    "    while (len(result) < len(left) + len(right)):\n",
    "        if left[i] < right[j]:\n",
    "            result.append(left[i])\n",
    "            i+= 1\n",
    "        else:\n",
    "            result.append(right[j])\n",
    "            j+= 1\n",
    "        if i == len(left) or j == len(right):\n",
    "            result.extend(left[i:] or right[j:])\n",
    "            break \n",
    "  \n",
    "    return result\n",
    "  \n",
    "def mergesort(list):\n",
    "    if len(list) < 2:\n",
    "        return list\n",
    "  \n",
    "    middle = int(len(list)/2)\n",
    "    left = mergesort(list[:middle])\n",
    "    right = mergesort(list[middle:])\n",
    "  \n",
    "    return merge(left, right)\n",
    "      \n",
    "seq = [12, 11, 13, 5, 6, 7]\n",
    "print(\"Given array is\")\n",
    "print(seq); \n",
    "print(\"\\n\")\n",
    "print(\"Sorted array is\")\n",
    "print(mergesort(seq))"
   ]
  },
  {
   "cell_type": "code",
   "execution_count": 10,
   "id": "8a4a78f8",
   "metadata": {},
   "outputs": [
    {
     "name": "stdout",
     "output_type": "stream",
     "text": [
      "Sorted array is\n",
      "5\n",
      "6\n",
      "7\n",
      "11\n",
      "12\n",
      "13\n"
     ]
    }
   ],
   "source": [
    "#Q8\n",
    "def heapify(arr, n, i):\n",
    "    largest = i  \n",
    "    l = 2 * i + 1  \n",
    "    r = 2 * i + 2 \n",
    "\n",
    " \n",
    "    if l < n and arr[i] < arr[l]:\n",
    "        largest = l\n",
    "\n",
    " \n",
    "    if r < n and arr[largest] < arr[r]:\n",
    "        largest = r\n",
    "\n",
    " \n",
    "    if largest != i:\n",
    "        (arr[i], arr[largest]) = (arr[largest], arr[i]) \n",
    "\n",
    " \n",
    "        heapify(arr, n, largest)\n",
    " \n",
    "\n",
    " \n",
    "def heapSort(arr):\n",
    "    n = len(arr)\n",
    " \n",
    " \n",
    "    for i in range(n // 2 - 1, -1, -1):\n",
    "        heapify(arr, n, i)\n",
    "\n",
    " \n",
    "    for i in range(n - 1, 0, -1):\n",
    "        (arr[i], arr[0]) = (arr[0], arr[i]) \n",
    "        heapify(arr, i, 0)\n",
    "  \n",
    "arr = [12, 11, 13, 5, 6, 7, ]\n",
    "heapSort(arr)\n",
    "n = len(arr)\n",
    "print('Sorted array is')\n",
    "for i in range(n):\n",
    "    print(arr[i])"
   ]
  },
  {
   "cell_type": "code",
   "execution_count": 12,
   "id": "6c18e6c8",
   "metadata": {},
   "outputs": [
    {
     "name": "stdout",
     "output_type": "stream",
     "text": [
      "Sorted character array is einnoru\n"
     ]
    }
   ],
   "source": [
    "#Q9\n",
    "def countSort(arr):\n",
    " \n",
    "    output = [0 for i in range(256)]\n",
    " \n",
    "    count = [0 for i in range(256)]\n",
    "\n",
    "    ans = [\"\" for _ in arr]\n",
    "\n",
    "    for i in arr:\n",
    "        count[ord(i)] += 1\n",
    "\n",
    "    for i in range(256):\n",
    "        count[i] += count[i-1]\n",
    " \n",
    "\n",
    "    for i in range(len(arr)):\n",
    "        output[count[ord(arr[i])]-1] = arr[i]\n",
    "        count[ord(arr[i])] -= 1\n",
    "\n",
    "    for i in range(len(arr)):\n",
    "        ans[i] = output[i]\n",
    "    return ans\n",
    "\n",
    "arr = \"ineuron\"\n",
    "ans = countSort(arr)\n",
    "print (\"Sorted character array is %s\"  %(\"\".join(ans)))"
   ]
  },
  {
   "cell_type": "code",
   "execution_count": 15,
   "id": "ffeb2992",
   "metadata": {},
   "outputs": [
    {
     "name": "stdout",
     "output_type": "stream",
     "text": [
      "The list before sorting is :\n",
      "[45, 31, 62, 12, 89, 5, 9, 8]\n",
      "\n",
      "The list after performing shell sorting is :\n",
      "[5, 8, 9, 12, 31, 45, 62, 89]\n"
     ]
    }
   ],
   "source": [
    "#Q10\n",
    "def shell_sort(my_list, list_len):\n",
    "   interval = list_len // 2\n",
    "   while interval > 0:\n",
    "      for i in range(interval, list_len):\n",
    "         temp = my_list[i]\n",
    "         j = i\n",
    "         while j >= interval and my_list[j - interval] > temp:\n",
    "            my_list[j] = my_list[j - interval]\n",
    "            j -= interval\n",
    "         my_list[j] = temp\n",
    "      interval //= 2\n",
    "\n",
    "my_list = [ 45, 31, 62, 12, 89, 5, 9, 8]\n",
    "list_len = len(my_list)\n",
    "print (\"The list before sorting is :\")\n",
    "print(my_list)\n",
    "shell_sort(my_list, list_len)\n",
    "print (\"\\nThe list after performing shell sorting is :\")\n",
    "print(my_list)"
   ]
  }
 ],
 "metadata": {
  "kernelspec": {
   "display_name": "Python 3 (ipykernel)",
   "language": "python",
   "name": "python3"
  },
  "language_info": {
   "codemirror_mode": {
    "name": "ipython",
    "version": 3
   },
   "file_extension": ".py",
   "mimetype": "text/x-python",
   "name": "python",
   "nbconvert_exporter": "python",
   "pygments_lexer": "ipython3",
   "version": "3.9.7"
  }
 },
 "nbformat": 4,
 "nbformat_minor": 5
}
