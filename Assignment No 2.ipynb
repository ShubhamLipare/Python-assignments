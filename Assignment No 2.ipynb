{
 "cells": [
  {
   "cell_type": "code",
   "execution_count": 1,
   "id": "abad2639",
   "metadata": {},
   "outputs": [
    {
     "name": "stdout",
     "output_type": "stream",
     "text": [
      "2\n"
     ]
    }
   ],
   "source": [
    "#Q1\n",
    "def fibo(n):\n",
    "    if(n<0):\n",
    "        print(\"Fibonacci not possible\")\n",
    "    elif(n==1):\n",
    "        return 0\n",
    "    elif(n==2):\n",
    "        return 1\n",
    "    else:\n",
    "        return fibo(n-1)+fibo(n-2)\n",
    "n=4\n",
    "\n",
    "print(fibo(n))"
   ]
  },
  {
   "cell_type": "code",
   "execution_count": 2,
   "id": "86b4c038",
   "metadata": {},
   "outputs": [
    {
     "name": "stdout",
     "output_type": "stream",
     "text": [
      "[0, 1, 1, 2, 3, 5, 8, 13, 21, 34]\n",
      "Element found\n"
     ]
    }
   ],
   "source": [
    "#Q2\n",
    "sum=0\n",
    "list = [0,1]\n",
    "\n",
    "def fib(n,val):\n",
    "   \n",
    "    for i in range(2,n):\n",
    "    \n",
    "        sum=  list[i-1]+ list[i-2]\n",
    "        list.append(sum)\n",
    "        sum=0\n",
    "    print(list)\n",
    "    \n",
    "    \n",
    "    for i in list:\n",
    "        if i==val:\n",
    "            print(\"Element found\")\n",
    "            break\n",
    "    else:\n",
    "        print(\"Element not found\")\n",
    "        \n",
    "fib(10,5)"
   ]
  },
  {
   "cell_type": "code",
   "execution_count": 2,
   "id": "c0a82824",
   "metadata": {},
   "outputs": [
    {
     "name": "stdout",
     "output_type": "stream",
     "text": [
      "position of nth multiple of k in fibonnacci series is 30\n"
     ]
    }
   ],
   "source": [
    "#Q3\n",
    "def findposition(k,n):\n",
    "    f1=0\n",
    "    f2=1\n",
    "    i=2\n",
    "    while i!=0:\n",
    "        f3=f1+f2\n",
    "        f1=f2\n",
    "        f2=f3\n",
    "        if(f2%k==0):\n",
    "            return n*i\n",
    "        i+=1\n",
    "    return\n",
    "n=5\n",
    "k=4\n",
    "print(\"position of nth multiple of k in fibonnacci series is\",findposition(k,n))"
   ]
  },
  {
   "cell_type": "code",
   "execution_count": 23,
   "id": "de22fe90",
   "metadata": {},
   "outputs": [
    {
     "name": "stdout",
     "output_type": "stream",
     "text": [
      "Enter a character=g\n",
      "ASCII value of  g is 103\n"
     ]
    }
   ],
   "source": [
    "#Q4\n",
    "x=str(input('Enter a character='))\n",
    "print('ASCII value of ',x,'is',ord(x))"
   ]
  },
  {
   "cell_type": "code",
   "execution_count": 3,
   "id": "1f015a54",
   "metadata": {},
   "outputs": [
    {
     "name": "stdout",
     "output_type": "stream",
     "text": [
      "Enter a number=5\n",
      "55\n"
     ]
    }
   ],
   "source": [
    "#Q5\n",
    "sum=0\n",
    "n=int(input(\"Enter a number=\"))\n",
    "\n",
    "for i in range(1,n+1):\n",
    "    sum+=i**2\n",
    "print(sum)"
   ]
  },
  {
   "cell_type": "code",
   "execution_count": 4,
   "id": "806a2dbc",
   "metadata": {},
   "outputs": [
    {
     "name": "stdout",
     "output_type": "stream",
     "text": [
      "Enter a number=8\n",
      "1296\n"
     ]
    }
   ],
   "source": [
    "#Q6\n",
    "sum=0\n",
    "n=int(input(\"Enter a number=\"))\n",
    "\n",
    "for i in range(1,n+1):\n",
    "    sum+=i**3\n",
    "print(sum)"
   ]
  },
  {
   "cell_type": "code",
   "execution_count": 11,
   "id": "c37d91ad",
   "metadata": {},
   "outputs": [
    {
     "name": "stdout",
     "output_type": "stream",
     "text": [
      "104\n"
     ]
    }
   ],
   "source": [
    "#Q7\n",
    "list_1=[5,10,24,5,4,54,2]\n",
    "sum=0\n",
    "\n",
    "for i in range(0,len(list_1)):\n",
    "    sum+=list_1[i]\n",
    "print(sum)"
   ]
  },
  {
   "cell_type": "code",
   "execution_count": 22,
   "id": "9ae9e918",
   "metadata": {},
   "outputs": [
    {
     "name": "stdout",
     "output_type": "stream",
     "text": [
      "largest number is= 54\n"
     ]
    }
   ],
   "source": [
    "#Q8\n",
    "list_1=[5,10,24,4,54,2]\n",
    "list_1.sort()\n",
    "print('largest number is=',list_1[-1])\n",
    "\n"
   ]
  },
  {
   "cell_type": "code",
   "execution_count": 2,
   "id": "bccf3f9f",
   "metadata": {},
   "outputs": [
    {
     "name": "stdout",
     "output_type": "stream",
     "text": [
      "Rotated array is: [3, 4, 5, 1, 2]\n"
     ]
    }
   ],
   "source": [
    "#Q9\n",
    "def rotation(a,d):\n",
    "    n=len(a)\n",
    "    a[:]=a[d:n]+a[0:d]\n",
    "    return a\n",
    "arr=[1,2,3,4,5]\n",
    "print(\"Rotated array is:\",rotation(arr,2))"
   ]
  },
  {
   "cell_type": "code",
   "execution_count": 4,
   "id": "b89e1209",
   "metadata": {},
   "outputs": [
    {
     "name": "stdout",
     "output_type": "stream",
     "text": [
      "[3, 4, 5, 6, 7, 1, 2]\n"
     ]
    }
   ],
   "source": [
    "#10\n",
    "def rverseArray(arr, start, end):\n",
    "    while (start < end):\n",
    "        temp = arr[start]\n",
    "        arr[start] = arr[end]\n",
    "        arr[end] = temp\n",
    "        start += 1\n",
    "        end = end-1\n",
    "        \n",
    "def leftRotate(arr, d):\n",
    "    n = len(arr)\n",
    "    rverseArray(arr, 0, d-1)\n",
    "    rverseArray(arr, d, n-1)\n",
    "    rverseArray(arr, 0, n-1)\n",
    " \n",
    " \n",
    "arr = [1, 2, 3, 4, 5, 6, 7]\n",
    "leftRotate(arr, 2)\n",
    "print(arr)"
   ]
  },
  {
   "cell_type": "code",
   "execution_count": 7,
   "id": "f957d8e5",
   "metadata": {},
   "outputs": [
    {
     "name": "stdout",
     "output_type": "stream",
     "text": [
      "[15, 16, 50, 36, 15, 40]\n"
     ]
    }
   ],
   "source": [
    "#11\n",
    "def SplitArray(arr, n, k):\n",
    "\tfor i in range(0, k):\n",
    "\t\tx = arr[0]\n",
    "\t\tfor j in range(0, n-1):\n",
    "\t\t\tarr[j] = arr[j + 1]\n",
    "\t\t\n",
    "\t\tarr[n-1] = x\t\t\n",
    "arr = [15, 40, 15, 16, 50, 36]\n",
    "n = len(arr)\n",
    "position = 2\n",
    "SplitArray(arr, n, position)\n",
    "print(arr)"
   ]
  },
  {
   "cell_type": "code",
   "execution_count": null,
   "id": "dcf70c68",
   "metadata": {},
   "outputs": [],
   "source": []
  }
 ],
 "metadata": {
  "kernelspec": {
   "display_name": "Python 3 (ipykernel)",
   "language": "python",
   "name": "python3"
  },
  "language_info": {
   "codemirror_mode": {
    "name": "ipython",
    "version": 3
   },
   "file_extension": ".py",
   "mimetype": "text/x-python",
   "name": "python",
   "nbconvert_exporter": "python",
   "pygments_lexer": "ipython3",
   "version": "3.9.7"
  }
 },
 "nbformat": 4,
 "nbformat_minor": 5
}
