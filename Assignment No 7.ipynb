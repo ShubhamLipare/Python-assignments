{
 "cells": [
  {
   "cell_type": "code",
   "execution_count": 15,
   "id": "be472027",
   "metadata": {},
   "outputs": [
    {
     "name": "stdout",
     "output_type": "stream",
     "text": [
      "and boy a am I\n"
     ]
    }
   ],
   "source": [
    "#Q1\n",
    "\n",
    "\n",
    "s=\"I am a boy \"\n",
    "words=s.split()\n",
    "print(\" \".join(list(reversed(words))))"
   ]
  },
  {
   "cell_type": "code",
   "execution_count": 25,
   "id": "7c09d119",
   "metadata": {},
   "outputs": [
    {
     "name": "stdout",
     "output_type": "stream",
     "text": [
      "old string is:This is ineuron\n",
      "New string is :Thi is ineuron\n"
     ]
    }
   ],
   "source": [
    "#Q2\n",
    "\n",
    "words=\"This is ineuron\"\n",
    "print(\"old string is:\"+ words)\n",
    "new_str=\"\"\n",
    "for i in range(len(words)):\n",
    "    if i!=3: #To remove 3rd character\n",
    "        new_str=new_str + words[i]\n",
    "print(\"New string is :\" + new_str )"
   ]
  },
  {
   "cell_type": "code",
   "execution_count": 27,
   "id": "2c6c297e",
   "metadata": {},
   "outputs": [
    {
     "name": "stdout",
     "output_type": "stream",
     "text": [
      "Substring isn't present in string\n"
     ]
    }
   ],
   "source": [
    "#Q3\n",
    "\n",
    "string=\"Hello world\"\n",
    "substring=\"Hello my world\"\n",
    "if substring in string:\n",
    "    print(\"Substring is present in string\")\n",
    "else:\n",
    "    print(\"Substring isn't present in string\")"
   ]
  },
  {
   "cell_type": "code",
   "execution_count": 30,
   "id": "43e05cdb",
   "metadata": {},
   "outputs": [
    {
     "name": "stdout",
     "output_type": "stream",
     "text": [
      "{'this': 2, 'is': 4, 'jupiter': 1, 'and': 1, 'python': 1, 'code': 1}\n"
     ]
    }
   ],
   "source": [
    "#Q4\n",
    "\n",
    "string=\"this is jupiter and this is python code\"\n",
    "words={ key: string.count(key) for key in string.split()}\n",
    "print(words)"
   ]
  },
  {
   "cell_type": "code",
   "execution_count": 38,
   "id": "143dfc88",
   "metadata": {},
   "outputs": [
    {
     "name": "stdout",
     "output_type": "stream",
     "text": [
      "Original string:ineuron_is_the_best\n",
      "New string:IneuronIsTheBest\n"
     ]
    }
   ],
   "source": [
    "#Q5\n",
    "\n",
    "string5=\"ineuron_is_the_best\"\n",
    "print(\"Original string:\"+ string5)\n",
    "st=string5.replace(\"_\",\" \").title().replace(\" \",\"\")\n",
    "print(\"New string:\"+str(st))\n"
   ]
  },
  {
   "cell_type": "code",
   "execution_count": 42,
   "id": "ea42d56f",
   "metadata": {},
   "outputs": [
    {
     "name": "stdout",
     "output_type": "stream",
     "text": [
      "1st way: 11\n",
      "2nd way: 11\n"
     ]
    }
   ],
   "source": [
    "#Q6\n",
    "\n",
    "def FindLen(string6):\n",
    "    c=0\n",
    "    for i in string6:\n",
    "        c+=1\n",
    "    return c\n",
    "\n",
    "    \n",
    "    \n",
    "string6=\"Hello world\"\n",
    "print(\"1st way:\",len(string6))\n",
    "print(\"2nd way:\",FindLen(string6))"
   ]
  },
  {
   "cell_type": "code",
   "execution_count": 43,
   "id": "a4c64cce",
   "metadata": {},
   "outputs": [
    {
     "name": "stdout",
     "output_type": "stream",
     "text": [
      "hsi lcn\n"
     ]
    }
   ],
   "source": [
    "#Q7\n",
    "\n",
    "string7=\"This is slicing\"\n",
    "print(string7[1::2])"
   ]
  },
  {
   "cell_type": "code",
   "execution_count": 2,
   "id": "38b7387a",
   "metadata": {},
   "outputs": [
    {
     "name": "stdout",
     "output_type": "stream",
     "text": [
      "Not Accepted\n"
     ]
    }
   ],
   "source": [
    "#Q8\n",
    "def check(string) :\n",
    "  \n",
    "    string = string.lower()\n",
    "    vowels = set(\"aeiou\")\n",
    "    s = set({})\n",
    "\n",
    "    for char in string :\n",
    "        if char in vowels :\n",
    "            s.add(char)\n",
    "        else:\n",
    "            pass\n",
    "              \n",
    "\n",
    "    if len(s) == len(vowels) :\n",
    "        print(\"Accepted\")\n",
    "    else :\n",
    "        print(\"Not Accepted\")\n",
    "\n",
    "check(\"jfbifuihofwuor\")"
   ]
  },
  {
   "cell_type": "code",
   "execution_count": 3,
   "id": "64269559",
   "metadata": {},
   "outputs": [
    {
     "name": "stdout",
     "output_type": "stream",
     "text": [
      "Matching char:  8\n"
     ]
    }
   ],
   "source": [
    "#Q9\n",
    "def count(s1, s2):\n",
    "    c=0\n",
    "    j=0\n",
    "    for i in s1:\n",
    "        if s2.find(i)>-0 and j==s1.find(i):\n",
    "            c=c+1\n",
    "        j=j+1\n",
    "    print(\"Matching char: \",c)\n",
    "\n",
    "s1=\"aabcdefk12\"\n",
    "s2=\"b2acdefk1\"\n",
    "count(s1,s2)"
   ]
  },
  {
   "cell_type": "code",
   "execution_count": 7,
   "id": "048616a5",
   "metadata": {},
   "outputs": [
    {
     "name": "stdout",
     "output_type": "stream",
     "text": [
      "Without Order: iuvbaf\n",
      "With Order: avfbiu\n"
     ]
    }
   ],
   "source": [
    "#Q10\n",
    "\n",
    "def removeDuplicate(str):\n",
    "    s=set(str)\n",
    "    s=\"\".join(s)\n",
    "    print(\"Without Order:\",s)\n",
    "    t=\"\"\n",
    "    for i in str:\n",
    "        if(i in t):\n",
    "            pass\n",
    "        else:\n",
    "            t=t+i\n",
    "    print(\"With Order:\",t)\n",
    "     \n",
    "str=\"avfvbaiubfiui\"\n",
    "removeDuplicate(str)"
   ]
  }
 ],
 "metadata": {
  "kernelspec": {
   "display_name": "Python 3 (ipykernel)",
   "language": "python",
   "name": "python3"
  },
  "language_info": {
   "codemirror_mode": {
    "name": "ipython",
    "version": 3
   },
   "file_extension": ".py",
   "mimetype": "text/x-python",
   "name": "python",
   "nbconvert_exporter": "python",
   "pygments_lexer": "ipython3",
   "version": "3.9.7"
  }
 },
 "nbformat": 4,
 "nbformat_minor": 5
}
