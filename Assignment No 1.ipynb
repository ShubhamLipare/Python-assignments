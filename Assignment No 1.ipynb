{
 "cells": [
  {
   "cell_type": "code",
   "execution_count": 1,
   "id": "a0fe91e4",
   "metadata": {},
   "outputs": [
    {
     "name": "stdout",
     "output_type": "stream",
     "text": [
      "1505\n",
      "1540\n",
      "1575\n",
      "1610\n",
      "1645\n",
      "1680\n",
      "1715\n",
      "1750\n",
      "1785\n",
      "1820\n",
      "1855\n",
      "1890\n",
      "1925\n",
      "1960\n",
      "1995\n",
      "2030\n",
      "2065\n",
      "2100\n",
      "2135\n",
      "2170\n",
      "2205\n",
      "2240\n",
      "2275\n",
      "2310\n",
      "2345\n",
      "2380\n",
      "2415\n",
      "2450\n",
      "2485\n",
      "2520\n",
      "2555\n",
      "2590\n",
      "2625\n",
      "2660\n",
      "2695\n"
     ]
    }
   ],
   "source": [
    "#Q1\n",
    "for i in range(1500,2701):\n",
    "    if((i%7==0) and (i%5==0)):\n",
    "       print(i)"
   ]
  },
  {
   "cell_type": "code",
   "execution_count": 2,
   "id": "57f9083a",
   "metadata": {},
   "outputs": [
    {
     "name": "stdout",
     "output_type": "stream",
     "text": [
      "Enter 1st number=8\n",
      "Enter 2nd number7\n",
      "15\n"
     ]
    }
   ],
   "source": [
    "#Q2\n",
    "x=int(input(\"Enter 1st number=\"))\n",
    "y=int(input('Enter 2nd number'))\n",
    "add=x+y\n",
    "print(add)"
   ]
  },
  {
   "cell_type": "code",
   "execution_count": 3,
   "id": "9c3f1c3a",
   "metadata": {},
   "outputs": [
    {
     "name": "stdout",
     "output_type": "stream",
     "text": [
      "Enter 1st number=5\n",
      "Enter 2nd number=8\n",
      "8 is greater\n"
     ]
    }
   ],
   "source": [
    "#Q3\n",
    "x=int(input(\"Enter 1st number=\"))\n",
    "y=int(input('Enter 2nd number='))\n",
    "if(x>y):\n",
    "    print(x,'is greater')\n",
    "else:\n",
    "    print(y,'is greater')"
   ]
  },
  {
   "cell_type": "code",
   "execution_count": 4,
   "id": "82ab74e5",
   "metadata": {},
   "outputs": [
    {
     "name": "stdout",
     "output_type": "stream",
     "text": [
      "Enter 1st number=4\n",
      "24\n"
     ]
    }
   ],
   "source": [
    "#Q4\n",
    "x=int(input(\"Enter 1st number=\"))\n",
    "fact=1\n",
    "for i in range(1,x+1):\n",
    "    fact*=i\n",
    "print(fact)"
   ]
  },
  {
   "cell_type": "code",
   "execution_count": 5,
   "id": "7dd132f7",
   "metadata": {},
   "outputs": [
    {
     "name": "stdout",
     "output_type": "stream",
     "text": [
      "Enter principal amount =1000\n",
      "Enter Rate of interest(in %)=8\n",
      "Enter time period (in years)2\n",
      "160.0\n"
     ]
    }
   ],
   "source": [
    "#Q5\n",
    "P=int(input(\"Enter principal amount =\"))\n",
    "R=int(input('Enter Rate of interest(in %)='))\n",
    "T=int(input('Enter time period (in years)'))\n",
    "SI=P*R*T/100\n",
    "print(SI)"
   ]
  },
  {
   "cell_type": "code",
   "execution_count": 6,
   "id": "cb62c969",
   "metadata": {},
   "outputs": [
    {
     "name": "stdout",
     "output_type": "stream",
     "text": [
      "Compound interest= 166.4000000000001\n"
     ]
    }
   ],
   "source": [
    "#Q6\n",
    "def compound_int(principal,rate,time):\n",
    "    amount=principal*(pow((1+(rate/100)),time))\n",
    "    CI=amount-principal\n",
    "    print('Compound interest=',CI)\n",
    "\n",
    "compound_int(1000,8,2)"
   ]
  },
  {
   "cell_type": "code",
   "execution_count": 7,
   "id": "6ed860b3",
   "metadata": {},
   "outputs": [
    {
     "name": "stdout",
     "output_type": "stream",
     "text": [
      "Enter a number=153\n",
      "153 is armstrong number\n"
     ]
    }
   ],
   "source": [
    "#Q7\n",
    "num=int(input('Enter a number='))\n",
    "sum=0\n",
    "x=num\n",
    "while (x>0):\n",
    "    digit=x%10\n",
    "    sum+=digit**3\n",
    "    x=x//10\n",
    "if(num==sum):\n",
    "    print(num,'is armstrong number')\n",
    "else:\n",
    "     print(num,'is  not armstrong number')\n",
    "    "
   ]
  },
  {
   "cell_type": "code",
   "execution_count": 1,
   "id": "c26c9e88",
   "metadata": {},
   "outputs": [
    {
     "name": "stdout",
     "output_type": "stream",
     "text": [
      "Area of circle= 314.0\n"
     ]
    }
   ],
   "source": [
    "#Q8\n",
    "pi=3.14\n",
    "radius=10\n",
    "print(\"Area of circle=\",pi*radius*radius)"
   ]
  },
  {
   "cell_type": "code",
   "execution_count": 3,
   "id": "c1385d0a",
   "metadata": {},
   "outputs": [
    {
     "name": "stdout",
     "output_type": "stream",
     "text": [
      "Prime numbers between 100 and 200 are=\n",
      "101\n",
      "103\n",
      "107\n",
      "109\n",
      "113\n",
      "127\n",
      "131\n",
      "137\n",
      "139\n",
      "149\n",
      "151\n",
      "157\n",
      "163\n",
      "167\n",
      "173\n",
      "179\n",
      "181\n",
      "191\n",
      "193\n",
      "197\n",
      "199\n"
     ]
    }
   ],
   "source": [
    "#Q9\n",
    "lower=100\n",
    "upper=200\n",
    "print(\"Prime numbers between {0} and {1} are=\".format(lower,upper))\n",
    "list=[]\n",
    "for num in range(lower,upper+1):\n",
    "    if(num>1):\n",
    "        for i in range(2,num):\n",
    "            if(num%i==0):\n",
    "                break\n",
    "        else:\n",
    "            print(num)"
   ]
  },
  {
   "cell_type": "code",
   "execution_count": 8,
   "id": "ca8130f5",
   "metadata": {},
   "outputs": [
    {
     "name": "stdout",
     "output_type": "stream",
     "text": [
      "Enter a number5\n",
      "5 is  a prime number\n"
     ]
    }
   ],
   "source": [
    "#Q10\n",
    "boolean=False\n",
    "x=int(input('Enter a number'))\n",
    "if(x>2):\n",
    "    for i in range(2,x):\n",
    "        if((x%i)==0):\n",
    "            boolean=True\n",
    "\n",
    "if(boolean):\n",
    "    print(x,'is not a prime number')\n",
    "else:\n",
    "    print(x,'is  a prime number')"
   ]
  }
 ],
 "metadata": {
  "kernelspec": {
   "display_name": "Python 3 (ipykernel)",
   "language": "python",
   "name": "python3"
  },
  "language_info": {
   "codemirror_mode": {
    "name": "ipython",
    "version": 3
   },
   "file_extension": ".py",
   "mimetype": "text/x-python",
   "name": "python",
   "nbconvert_exporter": "python",
   "pygments_lexer": "ipython3",
   "version": "3.9.7"
  }
 },
 "nbformat": 4,
 "nbformat_minor": 5
}
