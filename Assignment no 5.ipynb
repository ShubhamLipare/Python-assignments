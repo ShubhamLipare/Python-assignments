{
 "cells": [
  {
   "cell_type": "code",
   "execution_count": 1,
   "id": "f61153cf",
   "metadata": {},
   "outputs": [
    {
     "name": "stdout",
     "output_type": "stream",
     "text": [
      "[-20, -19, -18, -17, -16, -15, -14, -13, -12, -11, -10, -9, -8, -7, -6, -5, -4, -3, -2, -1]\n"
     ]
    }
   ],
   "source": [
    "#Q1\n",
    "\n",
    "l1=[]\n",
    "for i in range(-20,20):\n",
    "    if(i<0):\n",
    "        l1.append(i)\n",
    "print(l1)"
   ]
  },
  {
   "cell_type": "code",
   "execution_count": 2,
   "id": "faa315e8",
   "metadata": {},
   "outputs": [
    {
     "name": "stdout",
     "output_type": "stream",
     "text": [
      "[1, 98, 3, 5, 7, 8, 9]\n"
     ]
    }
   ],
   "source": [
    "#Q2\n",
    "\n",
    "l2=[1,5,7,98,3,5,1,8,5,9,3,5]\n",
    "set_1=set(l2)\n",
    "print(list(set_1))"
   ]
  },
  {
   "cell_type": "code",
   "execution_count": 3,
   "id": "ec5ff912",
   "metadata": {},
   "outputs": [
    {
     "name": "stdout",
     "output_type": "stream",
     "text": [
      "Old list= [1, 4, 5, [], 7, 8, [], [], 5, []]\n",
      "New list= [1, 4, 5, 7, 8, 5]\n"
     ]
    }
   ],
   "source": [
    "#Q3\n",
    "\n",
    "l3=[1,4,5,[],7,8,[],[],5,[]]\n",
    "list_3=[]\n",
    "for i in l3:\n",
    "    if(i!=[]):\n",
    "        list_3.append(i)\n",
    "print(\"Old list=\",l3)\n",
    "print(\"New list=\",list_3)"
   ]
  },
  {
   "cell_type": "code",
   "execution_count": 4,
   "id": "20208dcc",
   "metadata": {},
   "outputs": [
    {
     "data": {
      "text/plain": [
       "[9, 8, 7, 6, 5]"
      ]
     },
     "execution_count": 4,
     "metadata": {},
     "output_type": "execute_result"
    }
   ],
   "source": [
    "#Q4\n",
    "list_4=[]\n",
    "def copy(l4):\n",
    "    list_4.extend(l4)\n",
    "    return list_4\n",
    "l4=[9,8,7,6,5]\n",
    "copy(l4)"
   ]
  },
  {
   "cell_type": "code",
   "execution_count": 5,
   "id": "5ba983cf",
   "metadata": {},
   "outputs": [
    {
     "data": {
      "text/plain": [
       "3"
      ]
     },
     "execution_count": 5,
     "metadata": {},
     "output_type": "execute_result"
    }
   ],
   "source": [
    "#Q5\n",
    "\n",
    "def count(l5,x):\n",
    "    count=0\n",
    "    for i in l5:\n",
    "        if(i==x):\n",
    "            count+=1\n",
    "    return count\n",
    "\n",
    "l5=[2,6,5,3,5,7,8,3,4,5]\n",
    "x=5\n",
    "count(l5,x)"
   ]
  },
  {
   "cell_type": "code",
   "execution_count": 6,
   "id": "daa8e31d",
   "metadata": {},
   "outputs": [
    {
     "name": "stdout",
     "output_type": "stream",
     "text": [
      "Old list= [1, 4, 5, (), 7, 8, (), (), 5, ()]\n",
      "New list= [1, 4, 5, 7, 8, 5]\n"
     ]
    }
   ],
   "source": [
    "#Q6\n",
    "\n",
    "l6=[1,4,5,(),7,8,(),(),5,()]\n",
    "list_6=[]\n",
    "for i in l6:\n",
    "    if(i!=()):\n",
    "        list_6.append(i)\n",
    "print(\"Old list=\",l6)\n",
    "print(\"New list=\",list_6)\n"
   ]
  },
  {
   "cell_type": "code",
   "execution_count": 7,
   "id": "46e0b74f",
   "metadata": {},
   "outputs": [
    {
     "name": "stdout",
     "output_type": "stream",
     "text": [
      "[]\n"
     ]
    }
   ],
   "source": [
    "#Q7\n",
    "\n",
    "def dublicate(l7):\n",
    "    list_7=[]\n",
    "    for i in l7:\n",
    "        if(i in list_7):\n",
    "            list_7.append(i)\n",
    "    return list_7\n",
    "l7=[1,5,6,5,4,1,3,7,3,2,9,8,2]\n",
    "print(dublicate(l7))"
   ]
  },
  {
   "cell_type": "code",
   "execution_count": 8,
   "id": "1fbcef50",
   "metadata": {},
   "outputs": [],
   "source": [
    "#Q8\n",
    "\n",
    "l8=[1,5,4,6,8,4,3]\n",
    "def sum(l8):\n",
    "    sum=0\n",
    "    for i in range(len(l8)):\n",
    "        sum=l8[i]+l8[i+2]\n",
    "    "
   ]
  },
  {
   "cell_type": "code",
   "execution_count": 11,
   "id": "70dbf4d4",
   "metadata": {},
   "outputs": [
    {
     "name": "stdout",
     "output_type": "stream",
     "text": [
      "[7, 13, 5, 15, 17]\n"
     ]
    }
   ],
   "source": [
    "#Q9\n",
    "\n",
    "l9=[34,76,23,87,89]\n",
    "list_9=[]\n",
    "for i in l9:\n",
    "    sum=0\n",
    "    for digit in str(i):\n",
    "        sum+=int(digit)\n",
    "    list_9.append(sum)\n",
    "print(list_9)"
   ]
  },
  {
   "cell_type": "code",
   "execution_count": null,
   "id": "0bf5b586",
   "metadata": {},
   "outputs": [],
   "source": []
  }
 ],
 "metadata": {
  "kernelspec": {
   "display_name": "Python 3 (ipykernel)",
   "language": "python",
   "name": "python3"
  },
  "language_info": {
   "codemirror_mode": {
    "name": "ipython",
    "version": 3
   },
   "file_extension": ".py",
   "mimetype": "text/x-python",
   "name": "python",
   "nbconvert_exporter": "python",
   "pygments_lexer": "ipython3",
   "version": "3.9.7"
  }
 },
 "nbformat": 4,
 "nbformat_minor": 5
}
