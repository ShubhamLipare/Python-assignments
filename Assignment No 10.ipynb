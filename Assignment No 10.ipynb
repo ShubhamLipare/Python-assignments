{
 "cells": [
  {
   "cell_type": "code",
   "execution_count": 1,
   "id": "7744c165",
   "metadata": {},
   "outputs": [
    {
     "name": "stdout",
     "output_type": "stream",
     "text": [
      "The dictionary before performing remove is :  {'Arushi': 22, 'Mani': 21, 'Haritha': 21}\n",
      "The dictionary after remove is :  {'Arushi': 22, 'Haritha': 21}\n"
     ]
    }
   ],
   "source": [
    "#Q1\n",
    "\n",
    "test_dict = {\"Arushi\": 22, \"Mani\": 21, \"Haritha\": 21}\n",
    " \n",
    "print(\"The dictionary before performing remove is : \", test_dict)\n",
    " \n",
    "\n",
    "del test_dict['Mani']\n",
    " \n",
    "print(\"The dictionary after remove is : \", test_dict)\n"
   ]
  },
  {
   "cell_type": "code",
   "execution_count": 11,
   "id": "7690bf42",
   "metadata": {},
   "outputs": [
    {
     "name": "stdout",
     "output_type": "stream",
     "text": [
      "The list printed sorting by age: \n",
      "[{'name': 'Nikhil', 'age': 19}, {'name': 'Nandini', 'age': 20}, {'name': 'Manjeet', 'age': 20}]\n"
     ]
    }
   ],
   "source": [
    "#Q2\n",
    "from operator import itemgetter\n",
    "\n",
    "lis = [{\"name\": \"Nandini\", \"age\": 20},\n",
    "       {\"name\": \"Manjeet\", \"age\": 20},\n",
    "       {\"name\": \"Nikhil\", \"age\": 19}]\n",
    " \n",
    "print (\"The list printed sorting by age: \")\n",
    "print (sorted(lis, key=itemgetter('age')))\n",
    " \n"
   ]
  },
  {
   "cell_type": "code",
   "execution_count": 12,
   "id": "0e224224",
   "metadata": {},
   "outputs": [
    {
     "name": "stdout",
     "output_type": "stream",
     "text": [
      "The list sorted by age is : \n",
      "[{'name': 'Rob', 'age': 20}, {'name': 'John', 'age': 24}, {'name': 'Mark', 'age': 34}, {'name': 'Will', 'age': 56}]\n"
     ]
    }
   ],
   "source": [
    "#Q3\n",
    "from operator import itemgetter\n",
    "\n",
    "my_list = [{ \"name\" : \"Will\", \"age\" : 56},\n",
    "          { \"name\" : \"Rob\", \"age\" : 20 },\n",
    "          { \"name\" : \"Mark\" , \"age\" : 34 },\n",
    "          { \"name\" : \"John\" , \"age\" : 24 }]\n",
    "\n",
    "print(\"The list sorted by age is : \")\n",
    "print(sorted(my_list, key=lambda i: i['age']))"
   ]
  },
  {
   "cell_type": "code",
   "execution_count": 13,
   "id": "095830d5",
   "metadata": {},
   "outputs": [
    {
     "name": "stdout",
     "output_type": "stream",
     "text": [
      "None\n",
      "{'d': 6, 'c': 4, 'a': 10, 'b': 8}\n"
     ]
    }
   ],
   "source": [
    "#Q4\n",
    "def Merge(dict1, dict2):\n",
    "    return(dict2.update(dict1))\n",
    " \n",
    "dict1 = {'a': 10, 'b': 8}\n",
    "dict2 = {'d': 6, 'c': 4}\n",
    " \n",
    "\n",
    "print(Merge(dict1, dict2))\n",
    " \n",
    "print(dict2)"
   ]
  },
  {
   "cell_type": "code",
   "execution_count": 14,
   "id": "6129060e",
   "metadata": {},
   "outputs": [
    {
     "name": "stdout",
     "output_type": "stream",
     "text": [
      "The original dictionary is : {'month': [1, 2, 3], 'name': ['Jan', 'Feb', 'March']}\n",
      "Flattened dictionary : {1: 'Jan', 2: 'Feb', 3: 'March'}\n"
     ]
    }
   ],
   "source": [
    "#Q5\n",
    "test_dict = {'month' : [1, 2, 3],\n",
    "            'name' : ['Jan', 'Feb', 'March']}\n",
    " \n",
    "\n",
    "print(\"The original dictionary is : \" + str(test_dict))\n",
    " \n",
    "x=list(test_dict.values())\n",
    "a=x[0]\n",
    "b=x[1]\n",
    "d=dict()\n",
    "for i in range(0,len(a)):\n",
    "    d[a[i]]=b[i]\n",
    "\n",
    "print(\"Flattened dictionary : \" + str(d))"
   ]
  },
  {
   "cell_type": "code",
   "execution_count": 15,
   "id": "c19ecbe9",
   "metadata": {},
   "outputs": [
    {
     "name": "stdout",
     "output_type": "stream",
     "text": [
      "Resultant Dictionary :OrderedDict([('manjeet', '4'), ('akash', '4'), ('akshat', '1'), ('nikhil', '2')])\n"
     ]
    }
   ],
   "source": [
    "#Q6\n",
    "from collections import OrderedDict\n",
    " \n",
    "ini_dict1 = OrderedDict([('akshat', '1'), ('nikhil', '2')])\n",
    "ini_dict2 = OrderedDict([(\"manjeet\", '4'), (\"akash\", '4')])\n",
    " \n",
    "\n",
    "both = OrderedDict(list(ini_dict2.items()) + list(ini_dict1.items()))\n",
    " \n",
    "print (\"Resultant Dictionary :\"+str(both))"
   ]
  },
  {
   "cell_type": "code",
   "execution_count": 16,
   "id": "95d3f7f6",
   "metadata": {},
   "outputs": [
    {
     "name": "stdout",
     "output_type": "stream",
     "text": [
      "true\n"
     ]
    }
   ],
   "source": [
    "#Q7\n",
    "from collections import OrderedDict \n",
    "  \n",
    "def checkOrder(input, pattern): \n",
    "      \n",
    "    dict = OrderedDict.fromkeys(input) \n",
    "  \n",
    "    ptrlen = 0\n",
    "    for key,value in dict.items(): \n",
    "        if (key == pattern[ptrlen]): \n",
    "            ptrlen = ptrlen + 1\n",
    "\n",
    "        if (ptrlen == (len(pattern))): \n",
    "            return 'true'\n",
    "\n",
    "    return 'false'\n",
    "\n",
    "input = 'engineers rock'\n",
    "pattern = 'er'\n",
    "print (checkOrder(input,pattern)) "
   ]
  },
  {
   "cell_type": "code",
   "execution_count": 17,
   "id": "f2599d04",
   "metadata": {},
   "outputs": [
    {
     "name": "stdout",
     "output_type": "stream",
     "text": [
      "john\n"
     ]
    }
   ],
   "source": [
    "#Q8\n",
    "from collections import Counter\n",
    " \n",
    "votes =['john','johnny','jackie','johnny','john','jackie',\n",
    "    'jamie','jamie','john','johnny','jamie','johnny','john']\n",
    " \n",
    "vote_count=Counter(votes)\n",
    " \n",
    "max_votes=max(vote_count.values())\n",
    " \n",
    "lst=[i for i in vote_count.keys() if vote_count[i]==max_votes]\n",
    " \n",
    "print(sorted(lst)[0])"
   ]
  },
  {
   "cell_type": "code",
   "execution_count": 18,
   "id": "6f2c859a",
   "metadata": {},
   "outputs": [
    {
     "name": "stdout",
     "output_type": "stream",
     "text": [
      "The original dictionary is : {'ineuron': 1, 'is': 3, 'Best': 2}\n",
      "The ordered keys and values : ['ineuron', 'is', 'Best', 1, 3, 2]\n"
     ]
    }
   ],
   "source": [
    "#Q9\n",
    "test_dict = {\"ineuron\" : 1, \"is\" :  3, \"Best\" : 2}\n",
    " \n",
    "print(\"The original dictionary is : \" + str(test_dict))\n",
    "\n",
    "res = list(test_dict.keys()) + list(test_dict.values())\n",
    " \n",
    "print(\"The ordered keys and values : \" + str(res))"
   ]
  },
  {
   "cell_type": "code",
   "execution_count": 19,
   "id": "2cabbcc8",
   "metadata": {},
   "outputs": [
    {
     "name": "stdout",
     "output_type": "stream",
     "text": [
      "OrderedDict([('rajnish', '9'), ('ravi', '10'), ('sanjeev', '15'), ('suraj', '32'), ('yash', '2')])\n"
     ]
    }
   ],
   "source": [
    "#Q10\n",
    "from collections import OrderedDict\n",
    " \n",
    "dict = {'ravi': '10', 'rajnish': '9',\n",
    "        'sanjeev': '15', 'yash': '2', 'suraj': '32'}\n",
    "dict1 = OrderedDict(sorted(dict.items()))\n",
    "print(dict1)"
   ]
  }
 ],
 "metadata": {
  "kernelspec": {
   "display_name": "Python 3 (ipykernel)",
   "language": "python",
   "name": "python3"
  },
  "language_info": {
   "codemirror_mode": {
    "name": "ipython",
    "version": 3
   },
   "file_extension": ".py",
   "mimetype": "text/x-python",
   "name": "python",
   "nbconvert_exporter": "python",
   "pygments_lexer": "ipython3",
   "version": "3.9.7"
  }
 },
 "nbformat": 4,
 "nbformat_minor": 5
}
