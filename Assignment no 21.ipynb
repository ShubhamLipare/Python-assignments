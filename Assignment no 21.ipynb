{
 "cells": [
  {
   "cell_type": "code",
   "execution_count": 1,
   "id": "773115b1",
   "metadata": {},
   "outputs": [
    {
     "name": "stdout",
     "output_type": "stream",
     "text": [
      "1505 1540 1575 1610 1645 1680 1715 1750 1785 1820 1855 1890 1925 1960 1995 2030 2065 2100 2135 2170 2205 2240 2275 2310 2345 2380 2415 2450 2485 2520 2555 2590 2625 2660 2695 "
     ]
    }
   ],
   "source": [
    "#Q1\n",
    "for i in range(1500,2701):\n",
    "    if((i%7==0) and (i%5==0)):\n",
    "        print(i,end=\" \")"
   ]
  },
  {
   "cell_type": "code",
   "execution_count": 3,
   "id": "4e0058df",
   "metadata": {},
   "outputs": [
    {
     "name": "stdout",
     "output_type": "stream",
     "text": [
      "Input a word to reverse: hello\n",
      "olleh"
     ]
    }
   ],
   "source": [
    "#Q2\n",
    "word = input(\"Input a word to reverse: \")\n",
    "\n",
    "for char in range(len(word) - 1, -1, -1):\n",
    "  print(word[char], end=\"\")\n"
   ]
  },
  {
   "cell_type": "code",
   "execution_count": 5,
   "id": "5191fdcb",
   "metadata": {},
   "outputs": [
    {
     "name": "stdout",
     "output_type": "stream",
     "text": [
      "Input a dog's age in human years: 21\n",
      "The dog's age in dog's years is 97\n"
     ]
    }
   ],
   "source": [
    "#Q3\n",
    "h_age = int(input(\"Input a dog's age in human years: \"))\n",
    "\n",
    "if h_age < 0:\n",
    "    print(\"Age must be positive number.\")\n",
    "    exit()\n",
    "elif h_age <= 2:\n",
    "    d_age = h_age * 10.5\n",
    "else:\n",
    "    d_age = 21 + (h_age - 2)*4\n",
    "\n",
    "print(\"The dog's age in dog's years is\", d_age)"
   ]
  },
  {
   "cell_type": "code",
   "execution_count": 6,
   "id": "83185a40",
   "metadata": {},
   "outputs": [
    {
     "name": "stdout",
     "output_type": "stream",
     "text": [
      "Input lengths of the triangle sides: \n",
      "x: 5\n",
      "y: 7\n",
      "z: 5\n",
      "isosceles triangle\n"
     ]
    }
   ],
   "source": [
    "#Q4\n",
    "print(\"Input lengths of the triangle sides: \")\n",
    "x = int(input(\"x: \"))\n",
    "y = int(input(\"y: \"))\n",
    "z = int(input(\"z: \"))\n",
    "\n",
    "if x == y == z:\n",
    "    print(\"Equilateral triangle\")\n",
    "elif x==y or y==z or z==x:\n",
    "    print(\"isosceles triangle\")\n",
    "else:\n",
    "    print(\"Scalene triangle\")"
   ]
  },
  {
   "cell_type": "code",
   "execution_count": 7,
   "id": "5a952ec8",
   "metadata": {},
   "outputs": [
    {
     "name": "stdout",
     "output_type": "stream",
     "text": [
      "3\n"
     ]
    }
   ],
   "source": [
    "#Q5\n",
    "def fun():\n",
    "    a = 1\n",
    "    str = 'hello python'\n",
    "    c=3.654\n",
    "  \n",
    "print(fun.__code__.co_nlocals)"
   ]
  },
  {
   "cell_type": "code",
   "execution_count": 9,
   "id": "4e351922",
   "metadata": {},
   "outputs": [
    {
     "name": "stdout",
     "output_type": "stream",
     "text": [
      "120\n"
     ]
    }
   ],
   "source": [
    "#Q6\n",
    "def exec_code():\n",
    "    LOC = \"\"\"\n",
    "def factorial(num):\n",
    "    fact=1\n",
    "    for i in range(1,num+1):\n",
    "        fact = fact*i\n",
    "    return fact\n",
    "print(factorial(5))\n",
    "\"\"\"\n",
    "    exec(LOC)\n",
    "\n",
    "exec_code()"
   ]
  },
  {
   "cell_type": "code",
   "execution_count": 11,
   "id": "f3da5ff3",
   "metadata": {},
   "outputs": [
    {
     "name": "stdout",
     "output_type": "stream",
     "text": [
      "The original list is : [('i', 'N', 'e', 'u', 'r', 'o', 'n'), ('F', 'O', 'R'), ('B', 'A')]\n",
      "The list after conversion to list of string : ['iNeuron', 'FOR', 'BA']\n"
     ]
    }
   ],
   "source": [
    "#Q7\n",
    "test_list = [('i', 'N', 'e', 'u', 'r','o',\"n\"), ('F', 'O', 'R'),('B', 'A')]\n",
    "\n",
    "print (\"The original list is : \" + str(test_list))\n",
    "\n",
    "res = [''.join(i) for i in test_list]\n",
    " \n",
    "print (\"The list after conversion to list of string : \" + str(res))"
   ]
  },
  {
   "cell_type": "code",
   "execution_count": 12,
   "id": "3ff69129",
   "metadata": {},
   "outputs": [
    {
     "name": "stdout",
     "output_type": "stream",
     "text": [
      "The original dictionary is : {'Rash': [1, 3], 'Manjeet': [1, 4], 'Akash': [3, 4]}\n",
      "The converted list of dictionaries [{'Rash': 1, 'Manjeet': 1, 'Akash': 3}, {'Rash': 3, 'Manjeet': 4, 'Akash': 4}]\n"
     ]
    }
   ],
   "source": [
    "#Q8\n",
    "test_dict = { \"Rash\" : [1, 3], \"Manjeet\" : [1, 4], \"Akash\" : [3, 4] }\n",
    "\n",
    "print (\"The original dictionary is : \" + str(test_dict))\n",
    "\n",
    "res = [{key : value[i] for key, value in test_dict.items()}\n",
    "         for i in range(2)]\n",
    "  \n",
    "print (\"The converted list of dictionaries \" +  str(res))"
   ]
  },
  {
   "cell_type": "code",
   "execution_count": 13,
   "id": "528e27d0",
   "metadata": {},
   "outputs": [
    {
     "name": "stdout",
     "output_type": "stream",
     "text": [
      "Files and directories in ' E:\\Courses\\python ' :\n",
      "['0. Introduction', '1. Chapter 1', '10. Chapter 10', '11. Chapter 11', '12. Chapter 12', '13. Chapter 13', '2. Chapter 2', '3. Chapter 3', '4. Chapter 4', '5. Chapter 5', '6. Chapter 6', '7. Chapter 7', '8. Chapter 8', '9. Chapter 9', 'Project 1', 'Project 2', 'Project 3', 'Python Course with Notes.zip', 'TimeStamps.txt']\n"
     ]
    }
   ],
   "source": [
    "#Q9\n",
    "import os\n",
    "\n",
    "path = \"E:\\Courses\\python\"\n",
    "dir_list = os.listdir(path)\n",
    " \n",
    "print(\"Files and directories in '\", path, \"' :\")\n",
    "\n",
    "print(dir_list)"
   ]
  },
  {
   "cell_type": "code",
   "execution_count": 17,
   "id": "c2c444d8",
   "metadata": {},
   "outputs": [
    {
     "name": "stdout",
     "output_type": "stream",
     "text": [
      "String representing time: 23 January, 2022\n",
      "time.struct_time(tm_year=2022, tm_mon=1, tm_mday=23, tm_hour=0, tm_min=0, tm_sec=0, tm_wday=6, tm_yday=23, tm_isdst=-1)\n"
     ]
    }
   ],
   "source": [
    "#Q10\n",
    "import time\n",
    "time_string = \"23 January, 2022\"\n",
    "print(\"String representing time:\",time_string)\n",
    "result = time.strptime(time_string, \"%d %B, %Y\")\n",
    "print(result)"
   ]
  },
  {
   "cell_type": "code",
   "execution_count": 18,
   "id": "b2dcab8b",
   "metadata": {},
   "outputs": [
    {
     "name": "stdout",
     "output_type": "stream",
     "text": [
      "Parameters:  {'key1': 'value1', 'key2': 'value2'}\n",
      "Print the url to check the URL has been correctly encoded or not!\n",
      "https://httpbin.org/get?key1=value1&key2=value2\n",
      "\n",
      "Pass a list of items as a value:\n"
     ]
    }
   ],
   "source": [
    "#Q11\n",
    "import requests\n",
    "payload = {'key1': 'value1', 'key2': 'value2'}\n",
    "print(\"Parameters: \",payload)\n",
    "r = requests.get('https://httpbin.org/get', params=payload)\n",
    "print(\"Print the url to check the URL has been correctly encoded or not!\")\n",
    "print(r.url)\n",
    "print(\"\\nPass a list of items as a value:\")"
   ]
  },
  {
   "cell_type": "code",
   "execution_count": 19,
   "id": "0e96f817",
   "metadata": {},
   "outputs": [
    {
     "name": "stdout",
     "output_type": "stream",
     "text": [
      "Status Code 200\n",
      "JSON Response  {'args': {}, 'data': '{\"id\": 1001, \"name\": \"geek\", \"passion\": \"coding\"}', 'files': {}, 'form': {}, 'headers': {'Accept': '*/*', 'Accept-Encoding': 'gzip, deflate, br', 'Content-Length': '49', 'Content-Type': 'application/json', 'Host': 'httpbin.org', 'User-Agent': 'python-requests/2.26.0', 'X-Amzn-Trace-Id': 'Root=1-63048cac-2859211d64d07a902e87bb51'}, 'json': {'id': 1001, 'name': 'geek', 'passion': 'coding'}, 'origin': '152.57.234.104', 'url': 'https://httpbin.org/post'}\n"
     ]
    }
   ],
   "source": [
    "#Q12\n",
    "\n",
    "import requests\n",
    " \n",
    "url = \"https://httpbin.org/post\"\n",
    " \n",
    "data = {\n",
    "    \"id\": 1001,\n",
    "    \"name\": \"geek\",\n",
    "    \"passion\": \"coding\",\n",
    "}\n",
    " \n",
    "response = requests.post(url, json=data)\n",
    " \n",
    "print(\"Status Code\", response.status_code)\n",
    "print(\"JSON Response \", response.json())"
   ]
  },
  {
   "cell_type": "code",
   "execution_count": 20,
   "id": "3947262c",
   "metadata": {},
   "outputs": [
    {
     "name": "stdout",
     "output_type": "stream",
     "text": [
      "CSV file as a dictionary:\n",
      "\n",
      "{'id': \"['1', '2', '3']\", 'Column1': '[33, 25, 56]', 'Column2': '[35, 30, 30]', 'Column3': '[21, 40, 55]', 'Column4': '[71, 25, 55]', 'Column5': '[10, 10, 40]'}\n",
      "{'id': \"['1', '2', '3']\", 'Column1': '[33, 25, 56]', 'Column2': '[35, 30, 30]', 'Column3': '[21, 40, 55]', 'Column4': '[71, 25, 55]', 'Column5': '[10, 10, 40]'}\n",
      "{'id': \"['1', '2', '3']\", 'Column1': '[33, 25, 56]', 'Column2': '[35, 30, 30]', 'Column3': '[21, 40, 55]', 'Column4': '[71, 25, 55]', 'Column5': '[10, 10, 40]'}\n",
      "{'id': \"['1', '2', '3']\", 'Column1': '[33, 25, 56]', 'Column2': '[35, 30, 30]', 'Column3': '[21, 40, 55]', 'Column4': '[71, 25, 55]', 'Column5': '[10, 10, 40]'}\n",
      "{'id': \"['1', '2', '3']\", 'Column1': '[33, 25, 56]', 'Column2': '[35, 30, 30]', 'Column3': '[21, 40, 55]', 'Column4': '[71, 25, 55]', 'Column5': '[10, 10, 40]'}\n",
      "{'id': \"['1', '2', '3']\", 'Column1': '[33, 25, 56]', 'Column2': '[35, 30, 30]', 'Column3': '[21, 40, 55]', 'Column4': '[71, 25, 55]', 'Column5': '[10, 10, 40]'}\n"
     ]
    }
   ],
   "source": [
    "#Q13\n",
    "import csv\n",
    "csv_columns = ['id','Column1', 'Column2', 'Column3', 'Column4', 'Column5']\n",
    "dict_data = {'id':['1', '2', '3'],\n",
    "    'Column1':[33, 25, 56],\n",
    "    'Column2':[35, 30, 30],\n",
    "    'Column3':[21, 40, 55],\n",
    "    'Column4':[71, 25, 55],\n",
    "    'Column5':[10, 10, 40], }\n",
    "csv_file = \"temp.csv\"\n",
    "try:\n",
    "   with open(csv_file, 'w') as csvfile:\n",
    "       writer = csv.DictWriter(csvfile, fieldnames=csv_columns)\n",
    "       writer.writeheader()\n",
    "       for data in dict_data:\n",
    "           writer.writerow(dict_data)\n",
    "except IOError:\n",
    "   print(\"I/O error\")\n",
    "data = csv.DictReader(open(csv_file))\n",
    "print(\"CSV file as a dictionary:\\n\")\n",
    "for row in data:\n",
    "   print(row)"
   ]
  },
  {
   "cell_type": "code",
   "execution_count": 22,
   "id": "daac8b0f",
   "metadata": {},
   "outputs": [
    {
     "name": "stdout",
     "output_type": "stream",
     "text": [
      "2010,600000,50000\n",
      "2011,620000,51666.66667\n",
      "2012,700000,58333.33333\n",
      "2013,750000,62500\n",
      "\n",
      "Total no. of rows: 5\n",
      "Field names are:\n",
      "Year,Yearly, Goal,Monthly, Goal\n"
     ]
    }
   ],
   "source": [
    "import csv\n",
    "fields = []\n",
    "rows = []\n",
    "with open('Goals.csv', newline='') as csvfile:\n",
    " data = csv.reader(csvfile, delimiter=' ', quotechar=',')\n",
    " fields = next(data)\n",
    " for row in data:\n",
    "   print(', '.join(row))\n",
    "print(\"\\nTotal no. of rows: %d\"%(data.line_num))\n",
    "print('Field names are:')\n",
    "print(', '.join(field for field in fields))"
   ]
  },
  {
   "cell_type": "code",
   "execution_count": 23,
   "id": "12f97f85",
   "metadata": {},
   "outputs": [
    {
     "name": "stdout",
     "output_type": "stream",
     "text": [
      "True\n",
      "False\n"
     ]
    }
   ],
   "source": [
    "#Q15\n",
    "import re\n",
    "def is_allowed_specific_char(string):\n",
    "    charRe = re.compile(r'[^a-zA-Z0-9]')\n",
    "    string = charRe.search(string)\n",
    "    return not bool(string)\n",
    "\n",
    "print(is_allowed_specific_char(\"ABCDEFabcdef123450\")) \n",
    "print(is_allowed_specific_char(\"*&%@#!}{\"))"
   ]
  }
 ],
 "metadata": {
  "kernelspec": {
   "display_name": "Python 3 (ipykernel)",
   "language": "python",
   "name": "python3"
  },
  "language_info": {
   "codemirror_mode": {
    "name": "ipython",
    "version": 3
   },
   "file_extension": ".py",
   "mimetype": "text/x-python",
   "name": "python",
   "nbconvert_exporter": "python",
   "pygments_lexer": "ipython3",
   "version": "3.9.7"
  }
 },
 "nbformat": 4,
 "nbformat_minor": 5
}
