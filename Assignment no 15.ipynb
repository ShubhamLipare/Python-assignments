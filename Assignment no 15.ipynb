{
 "cells": [
  {
   "cell_type": "code",
   "execution_count": 1,
   "id": "58bb85a4",
   "metadata": {},
   "outputs": [
    {
     "name": "stdout",
     "output_type": "stream",
     "text": [
      "Following is a Topological Sort of the given graph\n",
      "[5, 4, 2, 3, 1, 0]\n"
     ]
    }
   ],
   "source": [
    "#Q1\n",
    "from collections import defaultdict\n",
    "\n",
    "class Graph:\n",
    "    def __init__(self,vertices):\n",
    "        self.graph = defaultdict(list)\n",
    "        self.V = vertices \n",
    "\n",
    "    def addEdge(self,u,v):\n",
    "        self.graph[u].append(v)\n",
    "\n",
    "    def topologicalSortUtil(self,v,visited,stack):\n",
    "\n",
    "        visited[v] = True\n",
    "\n",
    "        for i in self.graph[v]:\n",
    "            if visited[i] == False:\n",
    "                self.topologicalSortUtil(i,visited,stack)\n",
    " \n",
    "        stack.insert(0,v)\n",
    "\n",
    "    def topologicalSort(self):\n",
    "\n",
    "        visited = [False]*self.V\n",
    "        stack =[]\n",
    " \n",
    "\n",
    "        for i in range(self.V):\n",
    "            if visited[i] == False:\n",
    "                self.topologicalSortUtil(i,visited,stack)\n",
    " \n",
    "        print (stack)\n",
    " \n",
    "g= Graph(6)\n",
    "g.addEdge(5, 2);\n",
    "g.addEdge(5, 0);\n",
    "g.addEdge(4, 0);\n",
    "g.addEdge(4, 1);\n",
    "g.addEdge(2, 3);\n",
    "g.addEdge(3, 1);\n",
    " \n",
    "print (\"Following is a Topological Sort of the given graph\")\n",
    "g.topologicalSort()"
   ]
  },
  {
   "cell_type": "code",
   "execution_count": 2,
   "id": "fd1e078c",
   "metadata": {},
   "outputs": [
    {
     "name": "stdout",
     "output_type": "stream",
     "text": [
      "2 24 45 66 75 90 170 802 "
     ]
    }
   ],
   "source": [
    "#Q2\n",
    "def countingSort(arr, exp1):\n",
    "   \n",
    "    n = len(arr)\n",
    "    output = [0] * (n)\n",
    "\n",
    "    count = [0] * (10)\n",
    "   \n",
    "    for i in range(0, n):\n",
    "        index = (arr[i]/exp1)\n",
    "        count[int((index)%10)] += 1\n",
    "   \n",
    "    for i in range(1,10):\n",
    "        count[i] += count[i-1]\n",
    "   \n",
    "\n",
    "    i = n-1\n",
    "    while i>=0:\n",
    "        index = (arr[i]/exp1)\n",
    "        output[ count[ int((index)%10) ] - 1] = arr[i]\n",
    "        count[int((index)%10)] -= 1\n",
    "        i -= 1\n",
    "\n",
    "    i = 0\n",
    "    for i in range(0,len(arr)):\n",
    "        arr[i] = output[i]\n",
    " \n",
    "def radixSort(arr):\n",
    "\n",
    "    max1 = max(arr)\n",
    "\n",
    "    exp = 1\n",
    "    while max1/exp > 0:\n",
    "        countingSort(arr,exp)\n",
    "        exp *= 10\n",
    " \n",
    "arr = [ 170, 45, 75, 90, 802, 24, 2, 66]\n",
    "radixSort(arr)\n",
    " \n",
    "for i in range(len(arr)):\n",
    "    print(arr[i],end=\" \")"
   ]
  },
  {
   "cell_type": "code",
   "execution_count": 6,
   "id": "dbfcc2b9",
   "metadata": {},
   "outputs": [
    {
     "name": "stdout",
     "output_type": "stream",
     "text": [
      "Sorted array is:\n",
      "1 3 3 4 4 5 6 8 "
     ]
    }
   ],
   "source": [
    "#Q3\n",
    "def insertion_sort(arr):\n",
    "   for i in range(1, len(arr)):\n",
    "      temp = arr[i]\n",
    "      pos = binary_search(arr, temp, 0, i) + 1\n",
    "      for k in range(i, pos, -1):\n",
    "         arr[k] = arr[k - 1]\n",
    "      arr[pos] = temp\n",
    "def binary_search(arr, key, start, end):\n",
    "   #key\n",
    "   if end - start <= 1:\n",
    "      if key < arr[start]:\n",
    "         return start - 1\n",
    "      else:\n",
    "         return start\n",
    "   mid = (start + end)//2\n",
    "   if arr[mid] < key:\n",
    "      return binary_search(arr, key, mid, end)\n",
    "   elif arr[mid] > key:\n",
    "      return binary_search(arr, key, start, mid)\n",
    "   else:\n",
    "      return mid\n",
    "\n",
    "arr = [1,5,3,4,8,6,3,4]\n",
    "n = len(arr)\n",
    "insertion_sort(arr)\n",
    "print(\"Sorted array is:\")\n",
    "for i in range(n):\n",
    "   print(arr[i],end=\" \")"
   ]
  },
  {
   "cell_type": "code",
   "execution_count": 8,
   "id": "60d3839e",
   "metadata": {},
   "outputs": [
    {
     "name": "stdout",
     "output_type": "stream",
     "text": [
      "Sorted array is\n",
      "1 5 2 6 3 7 4 8 "
     ]
    }
   ],
   "source": [
    "#Q4\n",
    "def compAndSwap(a, i, j, dire):\n",
    "    if (dire == 1 and a[i] > a[j]) or (dire == 0 and a[i] > a[j]):\n",
    "        a[i], a[j] = a[j], a[i]\n",
    " \n",
    " \n",
    "def bitonicMerge(a, low, cnt, dire):\n",
    "    if cnt > 1:\n",
    "        k = cnt//2\n",
    "        for i in range(low, low+k):\n",
    "            compAndSwap(a, i, i+k, dire)\n",
    "        bitonicMerge(a, low, k, dire)\n",
    "        bitonicMerge(a, low+k, k, dire)\n",
    " \n",
    " \n",
    "def bitonicSort(a, low, cnt, dire):\n",
    "    if cnt > 1:\n",
    "        k = cnt//2\n",
    "        bitonicSort(a, low, k, 1)\n",
    "        bitonicSort(a, low+k, k, 0)\n",
    "        bitonicMerge(a, low, cnt, dire)\n",
    "\n",
    " \n",
    " \n",
    "def sort(a, N, up):\n",
    "    bitonicSort(a, 0, N, up)\n",
    " \n",
    " \n",
    "\n",
    "a = [3, 7, 4, 8, 6, 2, 1, 5]\n",
    "n = len(a)\n",
    "up = 1\n",
    " \n",
    "sort(a, n, up)\n",
    "print(\"Sorted array is\")\n",
    "for i in range(n):\n",
    "    print(\"%d\" % a[i], end=\" \")"
   ]
  },
  {
   "cell_type": "code",
   "execution_count": 10,
   "id": "d3334d37",
   "metadata": {},
   "outputs": [
    {
     "name": "stdout",
     "output_type": "stream",
     "text": [
      "Before:  [75, 16, 55, 19, 48, 14, 2, 61, 22, 100]\n",
      "After:   [2, 14, 16, 19, 22, 48, 55, 61, 75, 100]\n"
     ]
    }
   ],
   "source": [
    "#Q5\n",
    "def combsort(num):\n",
    "    gap = len(num)\n",
    "    swaps = True\n",
    "    while gap > 1 or swaps:\n",
    "        gap = max(1, int(gap / 1.25))  # minimum gap is 1\n",
    "        swaps = False\n",
    "        for i in range(len(num) - gap):\n",
    "            j = i+gap\n",
    "            if num[i] > num[j]:\n",
    "                num[i], num[j] = num[j], num[i]\n",
    "                swaps = True\n",
    " \n",
    "num_list = [75, 16, 55, 19, 48, 14, 2, 61, 22, 100]\n",
    "print(\"Before: \", num_list)\n",
    "combsort(num_list)\n",
    "print(\"After:  \", num_list)\n",
    " "
   ]
  },
  {
   "cell_type": "code",
   "execution_count": 11,
   "id": "47ee724f",
   "metadata": {},
   "outputs": [
    {
     "name": "stdout",
     "output_type": "stream",
     "text": [
      "Sorted order is :  2 3 4 6 7 8 8 "
     ]
    }
   ],
   "source": [
    "#Q6\n",
    "def pigeonhole_sort(a):\n",
    "    my_min = min(a)\n",
    "    my_max = max(a)\n",
    "    size = my_max - my_min + 1\n",
    "  \n",
    "    holes = [0] * size\n",
    "  \n",
    "    for x in a:\n",
    "        assert type(x) is int, \"integers only please\"\n",
    "        holes[x - my_min] += 1\n",
    "  \n",
    "    i = 0\n",
    "    for count in range(size):\n",
    "        while holes[count] > 0:\n",
    "            holes[count] -= 1\n",
    "            a[i] = count + my_min\n",
    "            i += 1\n",
    "              \n",
    "  \n",
    "a = [8, 3, 2, 7, 4, 6, 8]\n",
    "print(\"Sorted order is : \", end =\" \")\n",
    "  \n",
    "pigeonhole_sort(a)\n",
    "          \n",
    "for i in range(0, len(a)):\n",
    "    print(a[i], end =\" \")"
   ]
  },
  {
   "cell_type": "code",
   "execution_count": 12,
   "id": "7da790c3",
   "metadata": {},
   "outputs": [
    {
     "name": "stdout",
     "output_type": "stream",
     "text": [
      "Sorted array is:\n",
      "0\n",
      "1\n",
      "2\n",
      "2\n",
      "4\n",
      "5\n",
      "8\n"
     ]
    }
   ],
   "source": [
    "#Q7\n",
    "def cocktailSort(a):\n",
    "    n = len(a)\n",
    "    swapped = True\n",
    "    start = 0\n",
    "    end = n-1\n",
    "    while (swapped==True):\n",
    "\n",
    "        swapped = False\n",
    "\n",
    "        for i in range (start, end):\n",
    "            if (a[i] > a[i+1]) :\n",
    "                a[i], a[i+1]= a[i+1], a[i]\n",
    "                swapped=True\n",
    " \n",
    "\n",
    "        if (swapped==False):\n",
    "            break\n",
    " \n",
    "\n",
    "        swapped = False\n",
    "\n",
    "        end = end-1\n",
    "\n",
    "        for i in range(end-1, start-1,-1):\n",
    "            if (a[i] > a[i+1]):\n",
    "                a[i], a[i+1] = a[i+1], a[i]\n",
    "                swapped = True\n",
    "\n",
    "        start = start+1\n",
    "\n",
    "a = [5, 1, 4, 2, 8, 0, 2]\n",
    "cocktailSort(a)\n",
    "print(\"Sorted array is:\")\n",
    "for i in range(len(a)):\n",
    "    print (\"%d\" %a[i]),"
   ]
  },
  {
   "cell_type": "code",
   "execution_count": 16,
   "id": "484dd06f",
   "metadata": {},
   "outputs": [
    {
     "name": "stdout",
     "output_type": "stream",
     "text": [
      "Sorted sequence after applying Gnome Sort :\n",
      "-9\n",
      "2\n",
      "10\n",
      "34\n"
     ]
    }
   ],
   "source": [
    "#Q8\n",
    "def gnomeSort( arr, n):\n",
    "    index = 0\n",
    "    while index < n:\n",
    "        if index == 0:\n",
    "            index = index + 1\n",
    "        if arr[index] >= arr[index - 1]:\n",
    "            index = index + 1\n",
    "        else:\n",
    "            arr[index], arr[index-1] = arr[index-1], arr[index]\n",
    "            index = index - 1\n",
    " \n",
    "    return arr\n",
    " \n",
    "\n",
    "arr = [ 34, 2, 10, -9]\n",
    "n = len(arr)\n",
    " \n",
    "arr = gnomeSort(arr, n)\n",
    "print (\"Sorted sequence after applying Gnome Sort :\")\n",
    "for i in arr:\n",
    "    print(i)"
   ]
  },
  {
   "cell_type": "code",
   "execution_count": 17,
   "id": "55715782",
   "metadata": {},
   "outputs": [
    {
     "name": "stdout",
     "output_type": "stream",
     "text": [
      "-9 2 10 34 "
     ]
    }
   ],
   "source": [
    "#Q9\n",
    "def oddEvenSort(arr, n):\n",
    "    isSorted = 0\n",
    "    while isSorted == 0:\n",
    "        isSorted = 1\n",
    "        temp = 0\n",
    "        for i in range(1, n-1, 2):\n",
    "            if arr[i] > arr[i+1]:\n",
    "                arr[i], arr[i+1] = arr[i+1], arr[i]\n",
    "                isSorted = 0\n",
    "                 \n",
    "        for i in range(0, n-1, 2):\n",
    "            if arr[i] > arr[i+1]:\n",
    "                arr[i], arr[i+1] = arr[i+1], arr[i]\n",
    "                isSorted = 0\n",
    "     \n",
    "    return\n",
    " \n",
    " \n",
    "arr = [34, 2, 10, -9]\n",
    "n = len(arr)\n",
    " \n",
    "oddEvenSort(arr, n);\n",
    "for i in range(0, n):\n",
    "    print(arr[i], end =\" \")"
   ]
  },
  {
   "cell_type": "code",
   "execution_count": 18,
   "id": "83e6ee4a",
   "metadata": {},
   "outputs": [
    {
     "name": "stdout",
     "output_type": "stream",
     "text": [
      "Sorted array :\n",
      "0\n",
      "1\n",
      "2\n",
      "3\n",
      "4\n",
      "5\n"
     ]
    }
   ],
   "source": [
    "#Q10\n",
    "import random\n",
    "\n",
    "def bogoSort(a):\n",
    "    n = len(a)\n",
    "    while (is_sorted(a)== False):\n",
    "        shuffle(a)\n",
    "\n",
    "def is_sorted(a):\n",
    "    n = len(a)\n",
    "    for i in range(0, n-1):\n",
    "        if (a[i] > a[i+1] ):\n",
    "            return False\n",
    "    return True\n",
    " \n",
    "def shuffle(a):\n",
    "    n = len(a)\n",
    "    for i in range (0,n):\n",
    "        r = random.randint(0,n-1)\n",
    "        a[i], a[r] = a[r], a[i]\n",
    " \n",
    "\n",
    "a = [3, 2, 4, 1, 0, 5]\n",
    "bogoSort(a)\n",
    "print(\"Sorted array :\")\n",
    "for i in range(len(a)):\n",
    "    print (\"%d\" %a[i]),"
   ]
  }
 ],
 "metadata": {
  "kernelspec": {
   "display_name": "Python 3 (ipykernel)",
   "language": "python",
   "name": "python3"
  },
  "language_info": {
   "codemirror_mode": {
    "name": "ipython",
    "version": 3
   },
   "file_extension": ".py",
   "mimetype": "text/x-python",
   "name": "python",
   "nbconvert_exporter": "python",
   "pygments_lexer": "ipython3",
   "version": "3.9.7"
  }
 },
 "nbformat": 4,
 "nbformat_minor": 5
}
