{
 "cells": [
  {
   "cell_type": "code",
   "execution_count": 15,
   "id": "f36d8be3",
   "metadata": {},
   "outputs": [
    {
     "name": "stdout",
     "output_type": "stream",
     "text": [
      "Keys are= ['Rajat', 'Shubham', 'Swapnil']\n",
      "values are= [19, 21, 22]\n"
     ]
    }
   ],
   "source": [
    "#Q1 \n",
    "\n",
    "dic={ \n",
    " \"Shubham\":22,\n",
    " \"Swapnil\":21,\n",
    " \"Rajat\":19\n",
    "}\n",
    "\n",
    "\n",
    "#by keys\n",
    "print(\"Keys are=\",sorted(dic.keys()))\n",
    "\n",
    "#by values\n",
    "print(\"values are=\",sorted(dic.values()))"
   ]
  },
  {
   "cell_type": "code",
   "execution_count": 30,
   "id": "527bf0e5",
   "metadata": {},
   "outputs": [
    {
     "name": "stdout",
     "output_type": "stream",
     "text": [
      "22\n",
      "Key not found\n"
     ]
    }
   ],
   "source": [
    "#Q2\n",
    "import collections\n",
    "dic=collections.defaultdict(lambda : 'Key not found')\n",
    "dic['shubham']=22\n",
    "dic['Rajat']=19\n",
    "\n",
    "print(dic['shubham'])\n",
    "print(dic[\"atharv\"])\n"
   ]
  },
  {
   "cell_type": "code",
   "execution_count": 37,
   "id": "19201e62",
   "metadata": {},
   "outputs": [
    {
     "name": "stdout",
     "output_type": "stream",
     "text": [
      "{(1, 2, 3): '1st key', (4, 5, 6): '2nd key'}\n"
     ]
    }
   ],
   "source": [
    "#Q3\n",
    "dict={}\n",
    "x,y,z=1,2,3\n",
    "dict[x,y,z]=\"1st key\"\n",
    "x,y,z=4,5,6\n",
    "dict[x,y,z]=\"2nd key\"\n",
    "\n",
    "print(dict)"
   ]
  },
  {
   "cell_type": "code",
   "execution_count": 2,
   "id": "b0e5d1aa",
   "metadata": {},
   "outputs": [
    {
     "name": "stdout",
     "output_type": "stream",
     "text": [
      "cat tac act dog god \n"
     ]
    }
   ],
   "source": [
    "#Q4\n",
    "def allAnagram(input):\n",
    "    dict = {}\n",
    "\n",
    "    for strVal in input:\n",
    "         \n",
    "        key = ''.join(sorted(strVal))\n",
    "\n",
    "        if key in dict.keys():\n",
    "            dict[key].append(strVal)\n",
    "        else:\n",
    "            dict[key] = []\n",
    "            dict[key].append(strVal)\n",
    "\n",
    "    output = \"\"\n",
    "    for key,value in dict.items():\n",
    "        output = output + ' '.join(value) + ' '\n",
    " \n",
    "    return output\n",
    " \n",
    "\n",
    "input=['cat', 'dog', 'tac', 'god', 'act']\n",
    "print (allAnagram(input))"
   ]
  },
  {
   "cell_type": "code",
   "execution_count": 7,
   "id": "cb978234",
   "metadata": {},
   "outputs": [
    {
     "name": "stdout",
     "output_type": "stream",
     "text": [
      "u\n"
     ]
    }
   ],
   "source": [
    "#Q5\n",
    "from collections import OrderedDict\n",
    " \n",
    "def kthRepeating(input,k):\n",
    "\n",
    "    dict=OrderedDict.fromkeys(input,0)\n",
    "\n",
    "    for ch in input:\n",
    "        dict[ch]+=1\n",
    "\n",
    "    nonRepeatDict = [key for (key,value) in dict.items() if value==1]\n",
    "     \n",
    "    if len(nonRepeatDict) < k:\n",
    "        return 'Less than k non-repeating characters in input.'\n",
    "    else:\n",
    "        return nonRepeatDict[k-1]\n",
    "\n",
    "\n",
    "input = \"ineuron\"\n",
    "k = 3\n",
    "print(kthRepeating(input,k))"
   ]
  },
  {
   "cell_type": "code",
   "execution_count": 8,
   "id": "382baa7e",
   "metadata": {},
   "outputs": [
    {
     "name": "stdout",
     "output_type": "stream",
     "text": [
      "Yes\n"
     ]
    }
   ],
   "source": [
    "#Q6\n",
    "from collections import Counter\n",
    "  \n",
    "def checkAnagram(num1,num2):\n",
    "\n",
    "    bin1 = bin(num1)[2:]\n",
    "    bin2 = bin(num2)[2:]\n",
    "\n",
    "    zeros = abs(len(bin1)-len(bin2))\n",
    "    if (len(bin1)>len(bin2)):\n",
    "         bin2 = zeros * '0' + bin2\n",
    "    else:\n",
    "         bin1 = zeros * '0' + bin1\n",
    "\n",
    "    dict1 = Counter(bin1)\n",
    "    dict2 = Counter(bin2)\n",
    "  \n",
    "    if dict1 == dict2:\n",
    "         print('Yes')\n",
    "    else:\n",
    "         print('No')\n",
    "num1 = 8\n",
    "num2 = 4\n",
    "checkAnagram(num1,num2)"
   ]
  },
  {
   "cell_type": "code",
   "execution_count": 10,
   "id": "11386a29",
   "metadata": {},
   "outputs": [
    {
     "name": "stdout",
     "output_type": "stream",
     "text": [
      "3\n"
     ]
    }
   ],
   "source": [
    "#Q7\n",
    "from collections import Counter\n",
    "  \n",
    "def maxAnagramSize(input):\n",
    "    input = input.split(\" \")\n",
    "    for i in range(0,len(input)):\n",
    "         input[i]=''.join(sorted(input[i]))\n",
    "  \n",
    "    freqDict = Counter(input)\n",
    "  \n",
    "    print (max(freqDict.values()))\n",
    "  \n",
    "\n",
    "\n",
    "input = 'ant magenta magnate tan gnamate'\n",
    "maxAnagramSize(input)"
   ]
  },
  {
   "cell_type": "code",
   "execution_count": 11,
   "id": "e95f63ce",
   "metadata": {},
   "outputs": [
    {
     "name": "stdout",
     "output_type": "stream",
     "text": [
      "Python is great and Java also\n"
     ]
    }
   ],
   "source": [
    "#Q8\n",
    "s = \"Python is great and Java is also great\"\n",
    "l = s.split()\n",
    "k = []\n",
    "for i in l:\n",
    "\n",
    "    if (s.count(i)>=1 and (i not in k)):\n",
    "        k.append(i)\n",
    "print(' '.join(k))"
   ]
  },
  {
   "cell_type": "code",
   "execution_count": 12,
   "id": "60aaf39a",
   "metadata": {},
   "outputs": [
    {
     "name": "stdout",
     "output_type": "stream",
     "text": [
      "paizwlc\n"
     ]
    }
   ],
   "source": [
    "#Q9\n",
    "def mirrorChars(input,k):\n",
    "    original = 'abcdefghijklmnopqrstuvwxyz'\n",
    "    reverse = 'zyxwvutsrqponmlkjihgfedcba'\n",
    "    dictChars = dict(zip(original,reverse))\n",
    " \n",
    "    prefix = input[0:k-1]\n",
    "    suffix = input[k-1:]\n",
    "    mirror = ''\n",
    " \n",
    "    for i in range(0,len(suffix)):\n",
    "         mirror = mirror + dictChars[suffix[i]]\n",
    " \n",
    "    print (prefix+mirror)\n",
    "          \n",
    "\n",
    "input = 'paradox'\n",
    "k = 3\n",
    "mirrorChars(input,k)\n"
   ]
  },
  {
   "cell_type": "code",
   "execution_count": 14,
   "id": "a0174903",
   "metadata": {},
   "outputs": [
    {
     "name": "stdout",
     "output_type": "stream",
     "text": [
      "1 : 5\n",
      "5 : 2\n",
      "3 : 3\n",
      "4 : 3\n",
      "2 : 4\n"
     ]
    }
   ],
   "source": [
    "#Q10\n",
    "def CountFrequency(my_list):\n",
    "\n",
    "    freq = {}\n",
    "    for item in my_list:\n",
    "        if (item in freq):\n",
    "            freq[item] += 1\n",
    "        else:\n",
    "            freq[item] = 1\n",
    " \n",
    "    for key, value in freq.items():\n",
    "        print (key,\":\", value)\n",
    " \n",
    "\n",
    "my_list =[1, 1, 1, 5, 5, 3, 1, 3, 3, 1, 4, 4, 4, 2, 2, 2, 2]\n",
    " \n",
    "CountFrequency(my_list)"
   ]
  }
 ],
 "metadata": {
  "kernelspec": {
   "display_name": "Python 3 (ipykernel)",
   "language": "python",
   "name": "python3"
  },
  "language_info": {
   "codemirror_mode": {
    "name": "ipython",
    "version": 3
   },
   "file_extension": ".py",
   "mimetype": "text/x-python",
   "name": "python",
   "nbconvert_exporter": "python",
   "pygments_lexer": "ipython3",
   "version": "3.9.7"
  }
 },
 "nbformat": 4,
 "nbformat_minor": 5
}
