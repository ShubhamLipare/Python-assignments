{
 "cells": [
  {
   "cell_type": "code",
   "execution_count": 1,
   "id": "623a595a",
   "metadata": {},
   "outputs": [
    {
     "name": "stdout",
     "output_type": "stream",
     "text": [
      "The original string is : This is python programming language\n",
      "String after multiple replace : This k k programming k\n"
     ]
    }
   ],
   "source": [
    "#Q1\n",
    "test_string = 'This is python programming language'\n",
    "print(\"The original string is : \" + str(test_string))\n",
    "  \n",
    "word_list = [\"is\", 'language', 'python']\n",
    "replace_word = 'k'\n",
    "replaced_string = ' '.join([replace_word if i in word_list else i for i in test_string.split()])\n",
    "  \n",
    "print(\"String after multiple replace : \" + str(replaced_string)) \n",
    "\n"
   ]
  },
  {
   "cell_type": "code",
   "execution_count": 2,
   "id": "aa3a72f1",
   "metadata": {},
   "outputs": [
    {
     "name": "stdout",
     "output_type": "stream",
     "text": [
      "ABC\n",
      "ACB\n",
      "BAC\n",
      "BCA\n",
      "CAB\n",
      "CBA\n"
     ]
    }
   ],
   "source": [
    "#Q2\n",
    "\n",
    "from itertools import permutations\n",
    " \n",
    "def allPermutations(str):\n",
    "     permList = permutations(str)\n",
    " \n",
    "     for perm in list(permList):\n",
    "         print (''.join(perm))\n",
    "       \n",
    "\n",
    "\n",
    "str = 'ABC'\n",
    "allPermutations(str)"
   ]
  },
  {
   "cell_type": "code",
   "execution_count": 4,
   "id": "8737f96c",
   "metadata": {},
   "outputs": [
    {
     "name": "stdout",
     "output_type": "stream",
     "text": [
      "Urls:  ['https://ineuron.ai/']\n"
     ]
    }
   ],
   "source": [
    "#Q3\n",
    "import re\n",
    "def findURL(string):\n",
    "    regex=r\"(?i)\\b((?:https?://|www\\d{0,3}[.]|[a-z0-9.\\-]+[.][a-z]{2,4}/)(?:[^\\s()<>]+|\\(([^\\s()<>]+|(\\([^\\s()<>]+\\)))*\\))+(?:\\(([^\\s()<>]+|(\\([^\\s()<>]+\\)))*\\)|[^\\s`!()\\[\\]{};:'\\\".,<>?«»“”‘’]))\"\n",
    "    url= re.findall(regex,string)\n",
    "    return [x[0] for x in url]\n",
    "\n",
    "s = \"https://ineuron.ai/\"\n",
    "print(\"Urls: \", findURL(s))"
   ]
  },
  {
   "cell_type": "code",
   "execution_count": 6,
   "id": "70228b34",
   "metadata": {},
   "outputs": [
    {
     "name": "stdout",
     "output_type": "stream",
     "text": [
      "120\n"
     ]
    }
   ],
   "source": [
    "#Q4\n",
    "def exec_code():\n",
    "    LOC = \"\"\"\n",
    "def factorial(num):\n",
    "    fact=1\n",
    "    for i in range(1,num+1):\n",
    "        fact = fact*i\n",
    "    return fact\n",
    "print(factorial(5))\n",
    "\"\"\"\n",
    "    exec(LOC)\n",
    "     \n",
    "exec_code()"
   ]
  },
  {
   "cell_type": "code",
   "execution_count": 7,
   "id": "29c7e33d",
   "metadata": {},
   "outputs": [
    {
     "name": "stdout",
     "output_type": "stream",
     "text": [
      "Left Rotation :  euronin\n",
      "Right Rotation :  onineur\n"
     ]
    }
   ],
   "source": [
    "#Q5\n",
    "\n",
    " \n",
    "def rotate(input,d):\n",
    "    Lfirst = input[0 : d]\n",
    "    Lsecond = input[d :]\n",
    "    Rfirst = input[0 : len(input)-d]\n",
    "    Rsecond = input[len(input)-d : ]\n",
    " \n",
    " \n",
    "    print (\"Left Rotation : \", (Lsecond + Lfirst) )\n",
    "    print (\"Right Rotation : \", (Rsecond + Rfirst))\n",
    " \n",
    "input = 'ineuron'\n",
    "d=2\n",
    "rotate(input,d)"
   ]
  },
  {
   "cell_type": "code",
   "execution_count": 15,
   "id": "1ecc74a6",
   "metadata": {},
   "outputs": [
    {
     "name": "stdout",
     "output_type": "stream",
     "text": [
      "false\n"
     ]
    }
   ],
   "source": [
    "#Q6\n",
    "\n",
    "def checkEmpty(input, pattern):\n",
    "    if len(input)== 0 and len(pattern)== 0:\n",
    "        return 'true'\n",
    " \n",
    "    if len(pattern)== 0:\n",
    "        return 'true'\n",
    " \n",
    "    while (len(input) != 0):\n",
    "        index = input.find(pattern)\n",
    "        if (index ==(-1)):\n",
    "            return 'false'\n",
    "        input = input[0:index] + input[index + len(pattern):]           \n",
    "    return 'true'\n",
    " \n",
    "\n",
    "input ='iNeuron'\n",
    "pattern ='iNeu'\n",
    "print (checkEmpty(input, pattern))"
   ]
  },
  {
   "cell_type": "code",
   "execution_count": 17,
   "id": "9d531881",
   "metadata": {},
   "outputs": [
    {
     "name": "stdout",
     "output_type": "stream",
     "text": [
      "l o d\n"
     ]
    }
   ],
   "source": [
    "#Q7\n",
    "\n",
    "def find_dup_char(input):\n",
    "    x=[]\n",
    "    for i in input:\n",
    "        if i not in x and input.count(i)>1:\n",
    "            x.append(i)\n",
    "    print(\" \".join(x))\n",
    " \n",
    "\n",
    "input = 'helloooo worldd'\n",
    "find_dup_char(input)"
   ]
  },
  {
   "cell_type": "code",
   "execution_count": 19,
   "id": "33cae964",
   "metadata": {},
   "outputs": [
    {
     "name": "stdout",
     "output_type": "stream",
     "text": [
      "Original string: abcd dfg abcd gfdkl shpisd abcd gjpfjp sf abc\n",
      "xyz dfg xyz gfdkl shpisd xyz gjpfjp sf abc\n"
     ]
    }
   ],
   "source": [
    "#Q8\n",
    "string = \"abcd dfg abcd gfdkl shpisd abcd gjpfjp sf abc\" \n",
    "print(\"Original string:\",string)  \n",
    "print(string.replace(\"abcd\", \"xyz\")) \n"
   ]
  },
  {
   "cell_type": "code",
   "execution_count": 24,
   "id": "c175d1c5",
   "metadata": {},
   "outputs": [
    {
     "name": "stdout",
     "output_type": "stream",
     "text": [
      "The original dictionary is :  {'gfg': [5, 6, 7, 8], 'is': [10, 11, 7, 5], 'best': [6, 12, 10, 8], 'for': [1, 2, 5]}\n",
      "The unique values list is :  [1, 2, 5, 6, 7, 8, 10, 11, 12]\n"
     ]
    }
   ],
   "source": [
    "#Q9\n",
    "test_dict = {'gfg' : [5, 6, 7, 8],\n",
    "            'is' : [10, 11, 7, 5],\n",
    "            'best' : [6, 12, 10, 8],\n",
    "            'for' : [1, 2, 5]}\n",
    " \n",
    "print(\"The original dictionary is : \" , test_dict)\n",
    " \n",
    "x=[]\n",
    "for i in test_dict.keys():\n",
    "    x.extend(test_dict[i])\n",
    "x=list(set(x))\n",
    "x.sort()\n",
    "\n",
    "print(\"The unique values list is : \" ,list(x) )"
   ]
  },
  {
   "cell_type": "code",
   "execution_count": 28,
   "id": "cdfd9227",
   "metadata": {},
   "outputs": [
    {
     "name": "stdout",
     "output_type": "stream",
     "text": [
      "Sum : 600\n"
     ]
    }
   ],
   "source": [
    "#Q10\n",
    "def returnSum(myDict):\n",
    " \n",
    "    list = []\n",
    "    for i in myDict:\n",
    "        list.append(myDict[i])\n",
    "    final = sum(list)\n",
    " \n",
    "    return final\n",
    " \n",
    " \n",
    "\n",
    "dict = {'a': 100, 'b': 200, 'c': 300}\n",
    "print(\"Sum :\", returnSum(dict))"
   ]
  }
 ],
 "metadata": {
  "kernelspec": {
   "display_name": "Python 3 (ipykernel)",
   "language": "python",
   "name": "python3"
  },
  "language_info": {
   "codemirror_mode": {
    "name": "ipython",
    "version": 3
   },
   "file_extension": ".py",
   "mimetype": "text/x-python",
   "name": "python",
   "nbconvert_exporter": "python",
   "pygments_lexer": "ipython3",
   "version": "3.9.7"
  }
 },
 "nbformat": 4,
 "nbformat_minor": 5
}
