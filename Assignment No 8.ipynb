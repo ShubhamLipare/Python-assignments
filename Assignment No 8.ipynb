{
 "cells": [
  {
   "cell_type": "code",
   "execution_count": 43,
   "id": "27761425",
   "metadata": {},
   "outputs": [
    {
     "name": "stdout",
     "output_type": "stream",
     "text": [
      "The minimum of all characters in  hello i m coder  is: h\n"
     ]
    }
   ],
   "source": [
    "#Q1\n",
    "import re\n",
    "string1=\"hello i m coder \"\n",
    "minc={}\n",
    "for i in string1.lower():\n",
    "    if i in minc:\n",
    "        minc[i]+=1\n",
    "    else:\n",
    "        minc[i]=1\n",
    "re=min(minc,key=minc.get)\n",
    "print(\"The minimum of all characters in  \"+ string1+\" is: \"+str(re))"
   ]
  },
  {
   "cell_type": "code",
   "execution_count": 5,
   "id": "19ec930d",
   "metadata": {},
   "outputs": [
    {
     "name": "stdout",
     "output_type": "stream",
     "text": [
      "The original string is : hellooo i m coooder\n",
      "The maximum of all characters  is : o\n"
     ]
    }
   ],
   "source": [
    "#Q2 Incoplete\n",
    "import re\n",
    "test_str = \"hellooo i m coooder\"\n",
    " \n",
    "print (\"The original string is : \" + test_str)\n",
    "all_freq = {}\n",
    "for i in test_str:\n",
    "    if i in all_freq:\n",
    "        all_freq[i] += 1\n",
    "    else:\n",
    "        all_freq[i] = 1\n",
    "res = max(all_freq, key = all_freq.get)\n",
    " \n",
    "print (\"The maximum of all characters  is : \" + str(res))"
   ]
  },
  {
   "cell_type": "code",
   "execution_count": 6,
   "id": "53a24b27",
   "metadata": {},
   "outputs": [
    {
     "name": "stdout",
     "output_type": "stream",
     "text": [
      "string  has special character\n"
     ]
    }
   ],
   "source": [
    "# Q3\n",
    "\n",
    "sp_char=\"!@#$%^&*()+=_-{}[]:;<>,.?/\"\n",
    "boolean=False\n",
    "sr1=\"hello!!  i am @shubham\"\n",
    "for i in  sp_char:\n",
    "    if(i in sr1):\n",
    "        boolean=True\n",
    "        break\n",
    "if(boolean==True):\n",
    "    print(\"string  has special character\")\n",
    "else:\n",
    "    print(\"string  does not have special character\")\n"
   ]
  },
  {
   "cell_type": "code",
   "execution_count": null,
   "id": "97081ac7",
   "metadata": {},
   "outputs": [],
   "source": [
    "#Q4\n",
    "import string\n",
    "import random\n",
    "import time\n",
    "  \n",
    "possibleChar = string.ascii_lowercase + string.digits + string.ascii_uppercase + ' ., !?;:'\n",
    "  \n",
    "t = \"test\"\n",
    "  \n",
    "attemptThis = ''.join(random.choice(possibleChar) for i in range(len(t)))\n",
    "attemptNext = ''\n",
    "  \n",
    "done= False\n",
    "iteration = 0\n",
    "  \n",
    "while done == False:\n",
    "    print(attemptThis)\n",
    "      \n",
    "    attemptNext = ''\n",
    "    done = True\n",
    "      \n",
    "    for i in range(len(t)):\n",
    "        if attemptThis[i] != t[i]:\n",
    "            done = False\n",
    "            attemptNext += random.choice(possibleChar)\n",
    "        else:\n",
    "            attemptNext += t[i]\n",
    "              \n",
    "    iteration = iteration + 1\n",
    "    attemptThis = attemptNext\n",
    "    time.sleep(0.1)\n",
    "\n",
    "print(\"Target matched after \",iteration,\" iterations\")"
   ]
  },
  {
   "cell_type": "code",
   "execution_count": 10,
   "id": "56447a57",
   "metadata": {},
   "outputs": [
    {
     "name": "stdout",
     "output_type": "stream",
     "text": [
      "['hello', 'python', 'coder']\n"
     ]
    }
   ],
   "source": [
    "#Q5\n",
    "\n",
    "sentence = \"hello this is python and your are coder\"\n",
    "length = 4\n",
    "print([word for word in sentence.split() if len(word) > length])"
   ]
  },
  {
   "cell_type": "code",
   "execution_count": 11,
   "id": "b69430ea",
   "metadata": {},
   "outputs": [
    {
     "name": "stdout",
     "output_type": "stream",
     "text": [
      "ieuron\n"
     ]
    }
   ],
   "source": [
    "#Q6\n",
    "def remove_char(s, i):\n",
    "\n",
    "    for j in range(len(s)):\n",
    "        if j==i:\n",
    "            s=s.replace(s[i],\"\",1)\n",
    "    return s\n",
    "\n",
    "string = \"ineuron\"\n",
    "i = 2\n",
    "print(remove_char(string,i-1))"
   ]
  },
  {
   "cell_type": "code",
   "execution_count": 12,
   "id": "8fa323c0",
   "metadata": {},
   "outputs": [
    {
     "name": "stdout",
     "output_type": "stream",
     "text": [
      "['Business', 'Analyst']\n",
      "Business-Analyst\n"
     ]
    }
   ],
   "source": [
    "#Q7\n",
    "s = 'Business Analyst'\n",
    "print(s.split(\" \"))\n",
    "\n",
    "print(\"-\".join(s.split()))"
   ]
  },
  {
   "cell_type": "code",
   "execution_count": 13,
   "id": "32a5a596",
   "metadata": {},
   "outputs": [
    {
     "name": "stdout",
     "output_type": "stream",
     "text": [
      "Yes\n"
     ]
    }
   ],
   "source": [
    "#Q8\n",
    "\n",
    "string = \"01010101010\"\n",
    "if(string.count('0')+string.count('1')==len(string)):\n",
    "    print(\"Yes\")\n",
    "else:\n",
    "    print(\"No\")"
   ]
  },
  {
   "cell_type": "code",
   "execution_count": 15,
   "id": "01bacc94",
   "metadata": {},
   "outputs": [
    {
     "name": "stdout",
     "output_type": "stream",
     "text": [
      "Uncommon words are: ['data', 'business', 'science', 'analyst']\n"
     ]
    }
   ],
   "source": [
    "#Q9\n",
    "\n",
    "def uncommon(a,b):\n",
    "  a=a.split()\n",
    "  b=b.split()\n",
    "  k=set(a).symmetric_difference(set(b))\n",
    "  return k\n",
    "\n",
    "str1=\"ineuron for data science\"\n",
    "str2=\"ineuron for business analyst\"\n",
    "print(\"Uncommon words are:\",list(uncommon(str1,str2)))"
   ]
  }
 ],
 "metadata": {
  "kernelspec": {
   "display_name": "Python 3 (ipykernel)",
   "language": "python",
   "name": "python3"
  },
  "language_info": {
   "codemirror_mode": {
    "name": "ipython",
    "version": 3
   },
   "file_extension": ".py",
   "mimetype": "text/x-python",
   "name": "python",
   "nbconvert_exporter": "python",
   "pygments_lexer": "ipython3",
   "version": "3.9.7"
  }
 },
 "nbformat": 4,
 "nbformat_minor": 5
}
