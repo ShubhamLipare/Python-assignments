{
 "cells": [
  {
   "cell_type": "code",
   "execution_count": 3,
   "id": "762ceea2",
   "metadata": {},
   "outputs": [
    {
     "name": "stdout",
     "output_type": "stream",
     "text": [
      "Valid\n",
      "Valid\n",
      "Invalid\n"
     ]
    }
   ],
   "source": [
    "#Q1\n",
    "import re\n",
    "\n",
    "regex = r'^[a-z]$|^([a-z]).*\\1$'\n",
    "\n",
    "def check(string):\n",
    "\n",
    "    if(re.search(regex, string)): \n",
    "        print(\"Valid\") \n",
    "    else: \n",
    "        print(\"Invalid\") \n",
    " \n",
    "\n",
    " \n",
    "sample1 = \"afsiuga\"\n",
    "sample2 = \"a\"\n",
    "sample3 = \"adgdu;o;\"\n",
    " \n",
    "check(sample1)\n",
    "check(sample2)\n",
    "check(sample3)"
   ]
  },
  {
   "cell_type": "code",
   "execution_count": 4,
   "id": "ca11d93d",
   "metadata": {},
   "outputs": [
    {
     "name": "stdout",
     "output_type": "stream",
     "text": [
      "No\n",
      "Yes\n",
      "Yes\n"
     ]
    }
   ],
   "source": [
    "#Q2\n",
    "import re\n",
    "def match(text):\n",
    "        pattern = '[A-Z]+[a-z]+$'\n",
    "\n",
    "        if re.search(pattern, text):\n",
    "                return('Yes')\n",
    "        else:\n",
    "                return('No')\n",
    "  \n",
    "print(match(\"ineuron\"))\n",
    "print(match(\"iNeuron\"))\n",
    "print(match(\"Ineuron\"))"
   ]
  },
  {
   "cell_type": "code",
   "execution_count": 5,
   "id": "0e362b98",
   "metadata": {},
   "outputs": [
    {
     "name": "stdout",
     "output_type": "stream",
     "text": [
      "Python is great and Java also\n"
     ]
    }
   ],
   "source": [
    "#Q3\n",
    "s = \"Python is great and Java is also great\"\n",
    "l = s.split()\n",
    "k = []\n",
    "for i in l:\n",
    "\n",
    "    if (s.count(i)>=1 and (i not in k)):\n",
    "        k.append(i)\n",
    "print(' '.join(k))"
   ]
  },
  {
   "cell_type": "code",
   "execution_count": 6,
   "id": "21a17ec6",
   "metadata": {},
   "outputs": [
    {
     "name": "stdout",
     "output_type": "stream",
     "text": [
      "initial string :  123abcjw:, .@! eiw\n",
      "final string 123abcjweiw\n"
     ]
    }
   ],
   "source": [
    "#Q4\n",
    "import re\n",
    "\n",
    "ini_string = \"123abcjw:, .@! eiw\"\n",
    "\n",
    "print (\"initial string : \", ini_string)\n",
    " \n",
    "result = re.sub('[\\W_]+', '', ini_string)\n",
    "\n",
    "print (\"final string\", result)"
   ]
  },
  {
   "cell_type": "code",
   "execution_count": 11,
   "id": "d91825c5",
   "metadata": {},
   "outputs": [
    {
     "name": "stdout",
     "output_type": "stream",
     "text": [
      "Discard\n",
      "Accept\n"
     ]
    }
   ],
   "source": [
    "#Q5\n",
    "import re\n",
    "regex = '[a-zA-z0-9]$'\n",
    "\n",
    "def check(string):\n",
    "\n",
    "    if(re.search(regex, string)):\n",
    "        print(\"Accept\")\n",
    "         \n",
    "    else:\n",
    "        print(\"Discard\")\n",
    "     \n",
    "\n",
    "\n",
    " \n",
    "\n",
    "string = \"shubham01$\"\n",
    "check(string)\n",
    "string = \"00shubham\"\n",
    "check(string)"
   ]
  },
  {
   "cell_type": "code",
   "execution_count": 14,
   "id": "fd40db94",
   "metadata": {},
   "outputs": [
    {
     "name": "stdout",
     "output_type": "stream",
     "text": [
      "Invalid\n",
      "Valid\n"
     ]
    }
   ],
   "source": [
    "#Q6\n",
    "import re\n",
    "regex = '^[aeiouAEIOU][A-Za-z0-9_]*'\n",
    "\n",
    "def check(string):\n",
    "\n",
    "    if(re.search(regex, string)):\n",
    "        print(\"Valid\")\n",
    "         \n",
    "    else:\n",
    "        print(\"Invalid\")\n",
    "\n",
    "string = \"shubham\"\n",
    "check(string)\n",
    "string = \"Atharva\"\n",
    "check(string)    "
   ]
  },
  {
   "cell_type": "code",
   "execution_count": null,
   "id": "b426e5b4",
   "metadata": {},
   "outputs": [],
   "source": [
    "#Q7\n",
    "import re\n",
    "\n",
    "regex = r'^[a-z]$|^([a-z]).*\\1$'\n",
    "\n",
    "def check(string):\n",
    "\n",
    "    if(re.search(regex, string)): \n",
    "        print(\"Valid\") \n",
    "    else: \n",
    "        print(\"Invalid\") \n",
    " \n",
    "\n",
    " \n",
    "sample1 = \"afsiuga\"\n",
    "sample2 = \"a\"\n",
    "sample3 = \"adgdu;o;\"\n",
    " \n",
    "check(sample1)\n",
    "check(sample2)\n",
    "check(sample3)"
   ]
  },
  {
   "cell_type": "code",
   "execution_count": 15,
   "id": "236806b6",
   "metadata": {},
   "outputs": [
    {
     "name": "stdout",
     "output_type": "stream",
     "text": [
      "Yes\n"
     ]
    }
   ],
   "source": [
    "#Q8\n",
    "import re\n",
    "def isValidURL(str):\n",
    " \n",
    "    regex = (\"((http|https)://)(www.)?\" +\n",
    "             \"[a-zA-Z0-9@:%._\\\\+~#?&//=]\" +\n",
    "             \"{2,256}\\\\.[a-z]\" +\n",
    "             \"{2,6}\\\\b([-a-zA-Z0-9@:%\" +\n",
    "             \"._\\\\+~#?&//=]*)\")\n",
    "\n",
    "    p = re.compile(regex)\n",
    "\n",
    "    if (str == None):\n",
    "        return False\n",
    "\n",
    "    if(re.search(p, str)):\n",
    "        return True\n",
    "    else:\n",
    "        return False\n",
    " \n",
    "\n",
    "url = \"https://www.ineuron.in\"\n",
    " \n",
    "if(isValidURL(url) == True):\n",
    "    print(\"Yes\")\n",
    "else:\n",
    "    print(\"No\")"
   ]
  },
  {
   "cell_type": "code",
   "execution_count": 17,
   "id": "d35611f8",
   "metadata": {},
   "outputs": [
    {
     "name": "stdout",
     "output_type": "stream",
     "text": [
      "['https']\n",
      "['ineron.in']\n"
     ]
    }
   ],
   "source": [
    "#Q9\n",
    "import re  \n",
    "\n",
    "s = 'https://www.ineron.in/'\n",
    "  \n",
    "obj1 = re.findall('(\\w+)://',s)\n",
    "print(obj1)\n",
    "\n",
    "obj2 = re.findall('://www.([\\w\\-\\.]+)', \n",
    "                  s)\n",
    "print(obj2)"
   ]
  },
  {
   "cell_type": "code",
   "execution_count": 19,
   "id": "83c702f3",
   "metadata": {},
   "outputs": [
    {
     "name": "stdout",
     "output_type": "stream",
     "text": [
      "Valid Ip address\n",
      "Invalid Ip address\n"
     ]
    }
   ],
   "source": [
    "#Q10\n",
    "import re\n",
    "\n",
    "regex = \"^((25[0-5]|2[0-4][0-9]|1[0-9][0-9]|[1-9]?[0-9])\\.){3}(25[0-5]|2[0-4][0-9]|1[0-9][0-9]|[1-9]?[0-9])$\"\n",
    "\n",
    "def check(Ip):\n",
    "\n",
    "    if(re.search(regex, Ip)):\n",
    "        print(\"Valid Ip address\")\n",
    "         \n",
    "    else:\n",
    "        print(\"Invalid Ip address\")\n",
    "     \n",
    "Ip = \"192.168.0.1\"\n",
    "check(Ip)\n",
    " \n",
    "Ip = \"366.1.2.2\"\n",
    "check(Ip)"
   ]
  }
 ],
 "metadata": {
  "kernelspec": {
   "display_name": "Python 3 (ipykernel)",
   "language": "python",
   "name": "python3"
  },
  "language_info": {
   "codemirror_mode": {
    "name": "ipython",
    "version": 3
   },
   "file_extension": ".py",
   "mimetype": "text/x-python",
   "name": "python",
   "nbconvert_exporter": "python",
   "pygments_lexer": "ipython3",
   "version": "3.9.7"
  }
 },
 "nbformat": 4,
 "nbformat_minor": 5
}
