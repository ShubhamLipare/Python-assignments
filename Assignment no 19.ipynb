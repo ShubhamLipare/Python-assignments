{
 "cells": [
  {
   "cell_type": "code",
   "execution_count": 1,
   "id": "55e948d4",
   "metadata": {},
   "outputs": [
    {
     "name": "stdout",
     "output_type": "stream",
     "text": [
      "Valid Email\n",
      "Invalid Email\n"
     ]
    }
   ],
   "source": [
    "#Q1\n",
    "import re\n",
    "regex = r'\\b[A-Za-z0-9._%+-]+@[A-Za-z0-9.-]+\\.[A-Z|a-z]{2,}\\b'\n",
    "\n",
    "def check(email):\n",
    "\n",
    "    if(re.fullmatch(regex, email)):\n",
    "        print(\"Valid Email\")\n",
    " \n",
    "    else:\n",
    "        print(\"Invalid Email\")\n",
    "\n",
    "email = \"shubham@gmail.com\"\n",
    "check(email)\n",
    " \n",
    "email = \"shubham000.com\"\n",
    "check(email)"
   ]
  },
  {
   "cell_type": "code",
   "execution_count": 3,
   "id": "61f48ff5",
   "metadata": {},
   "outputs": [
    {
     "name": "stdout",
     "output_type": "stream",
     "text": [
      "The file ending with .xml is: uerh.xml\n"
     ]
    }
   ],
   "source": [
    "#Q2\n",
    "import re\n",
    "filenames = [\"aggea.html\", \"uerh.xml\", \n",
    "            \"carueg.txt\", \"gtiwui.jpg\"]\n",
    "  \n",
    "for file in filenames:\n",
    "    match = re.search(\"\\.xml$\", file)\n",
    "    if match:\n",
    "        print(\"The file ending with .xml is:\",\n",
    "             file)"
   ]
  },
  {
   "cell_type": "code",
   "execution_count": 10,
   "id": "e134e18b",
   "metadata": {},
   "outputs": [
    {
     "name": "stdout",
     "output_type": "stream",
     "text": [
      "Input your password:Shubham123@\n",
      "Valid Password\n"
     ]
    }
   ],
   "source": [
    "#Q4\n",
    "import re\n",
    "p= input(\"Input your password:\")\n",
    "x = True\n",
    "while x:  \n",
    "    if (len(p)<6 or len(p)>12):\n",
    "        break\n",
    "    elif not re.search(\"[a-z]\",p):\n",
    "        break\n",
    "    elif not re.search(\"[0-9]\",p):\n",
    "        break\n",
    "    elif not re.search(\"[A-Z]\",p):\n",
    "        break\n",
    "    elif not re.search(\"[$#@]\",p):\n",
    "        break\n",
    "    elif re.search(\"\\s\",p):\n",
    "        break\n",
    "    else:\n",
    "        print(\"Valid Password\")\n",
    "        x=False\n",
    "        break\n",
    "\n",
    "if x:\n",
    "    print(\"Not a Valid Password\")"
   ]
  },
  {
   "cell_type": "code",
   "execution_count": 14,
   "id": "d19a308b",
   "metadata": {},
   "outputs": [
    {
     "name": "stdout",
     "output_type": "stream",
     "text": [
      "Strong Password!\n",
      "Password length must be 9-20 characters!\n",
      "Strong Password!\n",
      "Weak Password: Same character repeats three or more times in a row\n",
      "Password cannot be a newline or space!\n"
     ]
    }
   ],
   "source": [
    "#Q5\n",
    "import re\n",
    "\n",
    "def password(v):\n",
    "    if v == \"\\n\" or v == \" \":\n",
    "        return \"Password cannot be a newline or space!\"\n",
    "    if 9 <= len(v) <= 20:\n",
    "\n",
    "        if re.search(r'(.)\\1\\1', v):\n",
    "            return \"Weak Password: Same character repeats three or more times in a row\"\n",
    "   \n",
    "        if re.search(r'(..)(.*?)\\1', v):\n",
    "            return \"Weak password: Same string pattern repetition\"\n",
    "   \n",
    "        else:\n",
    "            return \"Strong Password!\"\n",
    "   \n",
    "    else:\n",
    "        return \"Password length must be 9-20 characters!\"\n",
    "  \n",
    "\n",
    "print(password(\"Qggf!@ghf3\"))\n",
    "print(password(\"bafo;o\"))\n",
    "print(password(\"323@#fvondo\"))\n",
    "print(password(\"aaabbbccddd\"))\n",
    "print(password(\" \"))\n",
    "   "
   ]
  },
  {
   "cell_type": "code",
   "execution_count": 23,
   "id": "1514b599",
   "metadata": {},
   "outputs": [
    {
     "name": "stdout",
     "output_type": "stream",
     "text": [
      "oufszufbiubrg;beosugosgegostgbsgnsgbrtp\n"
     ]
    }
   ],
   "source": [
    "#Q6\n",
    "with open('abcd.txt','r') as file:\n",
    "      \n",
    "    for line in file:      \n",
    "        for word in line.split():         \n",
    "            print(word) \n"
   ]
  },
  {
   "cell_type": "code",
   "execution_count": 24,
   "id": "1800e5f4",
   "metadata": {},
   "outputs": [
    {
     "name": "stdout",
     "output_type": "stream",
     "text": [
      "o\n",
      "u\n",
      "f\n",
      "s\n",
      "z\n",
      "u\n",
      "f\n",
      "b\n",
      "i\n",
      "u\n",
      "b\n",
      "r\n",
      "g\n",
      ";\n",
      "b\n",
      "e\n",
      "o\n",
      "s\n",
      "u\n",
      "g\n",
      "o\n",
      "s\n",
      "g\n",
      "e\n",
      "g\n",
      "o\n",
      "s\n",
      "t\n",
      "g\n",
      "b\n",
      "s\n",
      "g\n",
      "n\n",
      "s\n",
      "g\n",
      "b\n",
      "r\n",
      "t\n",
      "p\n"
     ]
    }
   ],
   "source": [
    "#Q7\n",
    "file = open('abcd.txt', 'r')\n",
    " \n",
    "while 1:\n",
    "\n",
    "    char = file.read(1)         \n",
    "    if not char:\n",
    "        break\n",
    "         \n",
    "    print(char)\n",
    " \n",
    "file.close()"
   ]
  },
  {
   "cell_type": "code",
   "execution_count": 28,
   "id": "bc8efb85",
   "metadata": {},
   "outputs": [
    {
     "name": "stdout",
     "output_type": "stream",
     "text": [
      "Number of words in text file:  1\n",
      "Number of lines in text file:  1\n",
      "Number of characters in text file:  39\n",
      "Number of spaces in text file:  0\n"
     ]
    }
   ],
   "source": [
    "#Q8\n",
    "def counter(fname):\n",
    "    num_words = 0\n",
    "    num_lines = 0\n",
    "    num_charc = 0\n",
    "    num_spaces = 0\n",
    "\n",
    "    with open(fname, 'r') as f:\n",
    "\n",
    "        for line in f:\n",
    "            num_lines += 1\n",
    "\n",
    "            word = 'Y'\n",
    "\n",
    "            for letter in line:\n",
    "\n",
    "                if (letter != ' ' and word == 'Y'):\n",
    "\n",
    "                    num_words += 1\n",
    "                    word = 'N'\n",
    "\n",
    "                elif (letter == ' '):\n",
    "\n",
    "                    num_spaces += 1\n",
    "                    word = 'Y'\n",
    "                for i in letter:\n",
    "\n",
    "                    if(i !=\" \" and i !=\"\\n\"):\n",
    "                        num_charc += 1\n",
    "    print(\"Number of words in text file: \", num_words)\n",
    "    print(\"Number of lines in text file: \", num_lines)\n",
    "    print('Number of characters in text file: ', num_charc)\n",
    "    print('Number of spaces in text file: ', num_spaces)\n",
    "\n",
    "\n",
    "      \n",
    "fname = 'abcd.txt'\n",
    "try: \n",
    "    counter(fname) \n",
    "except: \n",
    "    print('File not found')"
   ]
  },
  {
   "cell_type": "code",
   "execution_count": 29,
   "id": "c4a64788",
   "metadata": {},
   "outputs": [
    {
     "name": "stdout",
     "output_type": "stream",
     "text": [
      "The count of oufszufbiubrg;beosugosgegostgbsgnsgbrtp is 1\n"
     ]
    }
   ],
   "source": [
    "#Q9\n",
    "f = open(\"abcd.txt\", \"r\")\n",
    "d = dict()\n",
    "  \n",
    "for res in f:\n",
    "    res = res.strip()\n",
    "    res = res.lower()\n",
    "    lines = res.split()\n",
    "  \n",
    "    for line in lines:\n",
    "  \n",
    "        if line in d:\n",
    "\n",
    "            d[line] = d[line]+1\n",
    "        else:\n",
    "            d[line] = 1\n",
    "  \n",
    "f.close()\n",
    "\n",
    "for key in list(d.keys()):\n",
    "    print(\"The count of {} is {}\".format(key,d[key]))"
   ]
  },
  {
   "cell_type": "code",
   "execution_count": 31,
   "id": "ff1d4965",
   "metadata": {},
   "outputs": [],
   "source": [
    "#Q10\n",
    "count = 1\n",
    "chrw = \"\"\n",
    "file = open('abcd.txt', 'r')\n",
    "while 1:\n",
    "    sp = file.read(1)\n",
    "  \n",
    "    if count<= 3:\n",
    "        chrw = chrw + sp\n",
    "  \n",
    "    if count>3:\n",
    "        if sp ==\" \":\n",
    "            count = 0\n",
    "            if len(chrw)>0:\n",
    "                print(chrw)\n",
    "                chrw =\"\"\n",
    "        elif sp !=\" \":\n",
    "            chrw =\"\"\n",
    "    count = count + 1\n",
    "  \n",
    "    if not sp:\n",
    "        break\n",
    "  \n",
    "file.close() "
   ]
  }
 ],
 "metadata": {
  "kernelspec": {
   "display_name": "Python 3 (ipykernel)",
   "language": "python",
   "name": "python3"
  },
  "language_info": {
   "codemirror_mode": {
    "name": "ipython",
    "version": 3
   },
   "file_extension": ".py",
   "mimetype": "text/x-python",
   "name": "python",
   "nbconvert_exporter": "python",
   "pygments_lexer": "ipython3",
   "version": "3.9.7"
  }
 },
 "nbformat": 4,
 "nbformat_minor": 5
}
