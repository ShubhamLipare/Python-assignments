{
 "cells": [
  {
   "cell_type": "code",
   "execution_count": 10,
   "id": "0fb6633c",
   "metadata": {},
   "outputs": [
    {
     "name": "stdout",
     "output_type": "stream",
     "text": [
      "Dictionary= {'c': 1, 'c++': 2, 'python': 3, 'java': 4}\n"
     ]
    }
   ],
   "source": [
    "#Q1\n",
    "list=[('c',1),(\"c++\",2),(\"python\",3),(\"java\",4)]\n",
    "dic={}\n",
    "\n",
    "def convert(list,dic):\n",
    "    dic=dict(list)\n",
    "    return dic\n",
    "print(\"Dictionary=\",convert(list,dic))"
   ]
  },
  {
   "cell_type": "code",
   "execution_count": 14,
   "id": "dbb1e4e7",
   "metadata": {},
   "outputs": [
    {
     "name": "stdout",
     "output_type": "stream",
     "text": [
      "Possible\n"
     ]
    }
   ],
   "source": [
    "#Q2\n",
    "from collections import Counter\n",
    "def compare(str1,str2):\n",
    "    dic1=Counter(str1)\n",
    "    dic2=Counter(str2)\n",
    "    result = dic1 & dic2\n",
    "  \n",
    "    return result==dic1\n",
    "str1=\"shubham\"\n",
    "str2=\"aaeertyhsjghuoibdthgakfdhm\"\n",
    "\n",
    "if compare(str1,str2)==True:\n",
    "    print(\"Possible\")\n",
    "else:\n",
    "    print(\"Not possible\")\n"
   ]
  },
  {
   "cell_type": "code",
   "execution_count": 1,
   "id": "22f52629",
   "metadata": {},
   "outputs": [
    {
     "name": "stdout",
     "output_type": "stream",
     "text": [
      "No\n"
     ]
    }
   ],
   "source": [
    "#Q3\n",
    "from collections import Counter\n",
    "  \n",
    "def allSame(input):\n",
    "\n",
    "    dict=Counter(input)\n",
    "\n",
    "    same = list(set(dict.values()))\n",
    "  \n",
    "    if len(same)>2:\n",
    "        print('No')\n",
    "    elif len (same)==2 and same[1]-same[0]>1:\n",
    "        print('No')\n",
    "    else:\n",
    "        print('Yes')\n",
    "\n",
    "      \n",
    "input = 'xxxyyzzt'\n",
    "allSame(input)"
   ]
  },
  {
   "cell_type": "code",
   "execution_count": 6,
   "id": "f866da11",
   "metadata": {},
   "outputs": [
    {
     "name": "stdout",
     "output_type": "stream",
     "text": [
      "me\n",
      "goal\n"
     ]
    }
   ],
   "source": [
    "#Q5\n",
    "def charCount(word):\n",
    "    dict = {}\n",
    "    for i in word:\n",
    "        dict[i] = dict.get(i, 0) + 1\n",
    "    return dict\n",
    "  \n",
    "  \n",
    "def possible_words(lwords, charSet):\n",
    "    for word in lwords:\n",
    "        flag = 1\n",
    "        chars = charCount(word)\n",
    "        for key in chars:\n",
    "            if key not in charSet:\n",
    "                flag = 0\n",
    "            else:\n",
    "                if charSet.count(key) != chars[key]:\n",
    "                    flag = 0\n",
    "        if flag == 1:\n",
    "            print(word)\n",
    "  \n",
    "\n",
    "input = ['goo', 'bat', 'me', 'eat', 'goal', 'boy', 'run']\n",
    "charSet = ['e', 'o', 'b', 'a', 'm', 'g', 'l']\n",
    "possible_words(input, charSet)"
   ]
  },
  {
   "cell_type": "code",
   "execution_count": 7,
   "id": "7b3f9dda",
   "metadata": {},
   "outputs": [
    {
     "name": "stdout",
     "output_type": "stream",
     "text": [
      "The original dictionary : {'gfg': [4, 5], 'is': [8], 'best': [10, 12]}\n",
      "The keys mapped to [5, 10] are : ['gfg', 'best']\n"
     ]
    }
   ],
   "source": [
    "#Q6\n",
    "test_dict = {'gfg' : [4, 5], 'is' : [8], 'best' : [10, 12]}\n",
    "  \n",
    "print(\"The original dictionary : \" + str(test_dict))\n",
    "  \n",
    "val_list = [5, 10]\n",
    "  \n",
    "\n",
    "temp = {}\n",
    "for key, vals in test_dict.items():\n",
    "    for val in vals:\n",
    "        temp[val] = key\n",
    "res = [temp[ele] for ele in val_list]\n",
    "\n",
    "print(\"The keys mapped to \" + str(val_list) + \" are : \" + str(res)) "
   ]
  },
  {
   "cell_type": "code",
   "execution_count": 8,
   "id": "1f43dc52",
   "metadata": {},
   "outputs": [
    {
     "name": "stdout",
     "output_type": "stream",
     "text": [
      "Size of Tuple1: 88bytes\n"
     ]
    }
   ],
   "source": [
    "#Q7\n",
    "\n",
    "import sys\n",
    "\n",
    "Tuple1 = (\"A\", 1, \"B\", 2, \"C\", 3)\n",
    "\n",
    "print(\"Size of Tuple1: \" + str(sys.getsizeof(Tuple1)) + \"bytes\")\n"
   ]
  },
  {
   "cell_type": "code",
   "execution_count": 9,
   "id": "c549f3fb",
   "metadata": {},
   "outputs": [
    {
     "name": "stdout",
     "output_type": "stream",
     "text": [
      "The original tuple is : (5, 20, 3, 7, 6, 8)\n",
      "The extracted values : (3, 5, 8, 20)\n"
     ]
    }
   ],
   "source": [
    "#Q8\n",
    "test_tup = (5, 20, 3, 7, 6, 8)\n",
    " \n",
    "\n",
    "print(\"The original tuple is : \" + str(test_tup))\n",
    " \n",
    "K = 2\n",
    "\n",
    "test_tup = list(test_tup)\n",
    "temp = sorted(test_tup)\n",
    "res = tuple(temp[:K] + temp[-K:])\n",
    "\n",
    "print(\"The extracted values : \" + str(res))"
   ]
  },
  {
   "cell_type": "code",
   "execution_count": 27,
   "id": "efd1f311",
   "metadata": {},
   "outputs": [
    {
     "name": "stdout",
     "output_type": "stream",
     "text": [
      "original list= [1, 2, 3, 4]\n",
      "new list [(1, 1), (2, 8), (3, 27), (4, 64)]\n"
     ]
    }
   ],
   "source": [
    "#Q9\n",
    "\n",
    "list=[1,2,3,4]\n",
    "newlist=[]\n",
    "\n",
    "for i in list:\n",
    "    tup=(i,i*i*i)\n",
    "    newlist.append(tup)\n",
    "\n",
    "print(\"original list=\",list)    \n",
    "print(\"new list\",newlist)"
   ]
  },
  {
   "cell_type": "code",
   "execution_count": 24,
   "id": "a222042b",
   "metadata": {},
   "outputs": [
    {
     "name": "stdout",
     "output_type": "stream",
     "text": [
      "The original list is :  [5, 6, 7]\n",
      "The container after addition :  [5, 6, 7, 9, 10]\n",
      "The original list and tuple [5, 6, 7, 9, 10] (9, 10)\n",
      "New tuple (9, 10, 5, 6, 7, 9, 10)\n"
     ]
    }
   ],
   "source": [
    "#Q10\n",
    "\n",
    "#adding tuple to list\n",
    "\n",
    "list = [5, 6, 7]\n",
    "print(\"The original list is : \" ,list)\n",
    "tup = (9, 10)\n",
    "list += tup\n",
    "print(\"The container after addition : \" ,list)\n",
    "\n",
    "#adding list to tuple\n",
    "print(\"The original list and tuple\",list,tup)\n",
    "tup+=tuple(list)\n",
    "print(\"New tuple\",tup)\n"
   ]
  },
  {
   "cell_type": "code",
   "execution_count": 18,
   "id": "5902b22a",
   "metadata": {},
   "outputs": [
    {
     "name": "stdout",
     "output_type": "stream",
     "text": [
      "The original list is : [(3, 4), (78, 76), (2, 3), (9, 8), (19, 23)]\n",
      "The nearest tuple to Kth index element is : (19, 23)\n"
     ]
    }
   ],
   "source": [
    "#Q11\n",
    "\n",
    "test_list = [(3, 4), (78, 76), (2, 3), (9, 8), (19, 23)]\n",
    "print(\"The original list is : \" + str(test_list))\n",
    "tup = (17, 23)\n",
    "  \n",
    "K = 1\n",
    "res = min(range(len(test_list)), key = lambda sub: abs(test_list[sub][K - 1] - tup[K - 1]))\n",
    "  \n",
    " \n",
    "print(\"The nearest tuple to Kth index element is : \" + str(test_list[res])) "
   ]
  }
 ],
 "metadata": {
  "kernelspec": {
   "display_name": "Python 3 (ipykernel)",
   "language": "python",
   "name": "python3"
  },
  "language_info": {
   "codemirror_mode": {
    "name": "ipython",
    "version": 3
   },
   "file_extension": ".py",
   "mimetype": "text/x-python",
   "name": "python",
   "nbconvert_exporter": "python",
   "pygments_lexer": "ipython3",
   "version": "3.9.7"
  }
 },
 "nbformat": 4,
 "nbformat_minor": 5
}
