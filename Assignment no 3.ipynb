{
 "cells": [
  {
   "cell_type": "code",
   "execution_count": 1,
   "id": "812587cf",
   "metadata": {},
   "outputs": [
    {
     "name": "stdout",
     "output_type": "stream",
     "text": [
      "Enter a number:6\n",
      "18816\n",
      "0\n"
     ]
    }
   ],
   "source": [
    "#Q1\n",
    "\n",
    "multi=1\n",
    "list_1=[2,4,56,6,7]\n",
    "n=int(input('Enter a number:'))\n",
    "length=len(list_1)\n",
    "for i in range(length):\n",
    "    multi*=list_1[i]\n",
    "print(multi)\n",
    "print(multi%n)    \n",
    "    "
   ]
  },
  {
   "cell_type": "code",
   "execution_count": 3,
   "id": "4f70dfe5",
   "metadata": {},
   "outputs": [
    {
     "name": "stdout",
     "output_type": "stream",
     "text": [
      "True\n"
     ]
    }
   ],
   "source": [
    "#Q2\n",
    "def isMonotonic(A):\n",
    "  \n",
    "    return (all(A[i] <= A[i + 1] for i in range(len(A) - 1)) or\n",
    "            all(A[i] >= A[i + 1] for i in range(len(A) - 1)))\n",
    "\n",
    "A = [6, 5, 4, 2]\n",
    "  \n",
    "print(isMonotonic(A))"
   ]
  },
  {
   "cell_type": "code",
   "execution_count": 2,
   "id": "abde810d",
   "metadata": {},
   "outputs": [
    {
     "name": "stdout",
     "output_type": "stream",
     "text": [
      "[5, 2, 3, 4, 1]\n"
     ]
    }
   ],
   "source": [
    "#Q3\n",
    "\n",
    "list_2=[1,2,3,4,5]\n",
    "t=list_2[0]\n",
    "list_2[0]=list_2[-1]\n",
    "list_2[-1]=t\n",
    "print(list_2)\n"
   ]
  },
  {
   "cell_type": "code",
   "execution_count": 4,
   "id": "a7404109",
   "metadata": {},
   "outputs": [
    {
     "name": "stdout",
     "output_type": "stream",
     "text": [
      "[19, 65, 23, 90]\n"
     ]
    }
   ],
   "source": [
    "#Q4\n",
    "def swapPositions(list, pos1, pos2):\n",
    "     \n",
    "    list[pos1], list[pos2] = list[pos2], list[pos1]\n",
    "    return list\n",
    " \n",
    "List = [23, 65, 19, 90]\n",
    "pos1, pos2  = 1, 3\n",
    " \n",
    "print(swapPositions(List, pos1-1, pos2-1))"
   ]
  },
  {
   "cell_type": "code",
   "execution_count": 3,
   "id": "0d27e5c4",
   "metadata": {},
   "outputs": [
    {
     "name": "stdout",
     "output_type": "stream",
     "text": [
      "8\n"
     ]
    }
   ],
   "source": [
    "#Q5\n",
    "\n",
    "list_5=[1,2,4,5,6,7,78,4]\n",
    "print(len(list_5))"
   ]
  },
  {
   "cell_type": "code",
   "execution_count": 4,
   "id": "af227ead",
   "metadata": {},
   "outputs": [
    {
     "name": "stdout",
     "output_type": "stream",
     "text": [
      "Enter a number=2\n",
      "2  is present in list\n"
     ]
    }
   ],
   "source": [
    "#Q6\n",
    "\n",
    "list_3=[1,2,3,4,5]\n",
    "x=int(input(\"Enter a number=\"))\n",
    "if(x in list_3):\n",
    "    print(x,\" is present in list\")\n",
    "else:\n",
    "    print(x,\"isn't present in list\")"
   ]
  },
  {
   "cell_type": "code",
   "execution_count": 8,
   "id": "92872eed",
   "metadata": {},
   "outputs": [
    {
     "name": "stdout",
     "output_type": "stream",
     "text": [
      "Cleared list= None\n"
     ]
    }
   ],
   "source": [
    "#Q7\n",
    "list=[1,2,3,4,5]\n",
    "print(\"Cleared list=\",list.clear())"
   ]
  },
  {
   "cell_type": "code",
   "execution_count": 12,
   "id": "8d7526ce",
   "metadata": {},
   "outputs": [
    {
     "name": "stdout",
     "output_type": "stream",
     "text": [
      "Reversed list= [5, 4, 3, 2, 1]\n"
     ]
    }
   ],
   "source": [
    "#Q8\n",
    "list1=[1,2,3,4,5]\n",
    "list1.reverse()\n",
    "print(\"Reversed list=\",list1)\n",
    "\n"
   ]
  },
  {
   "cell_type": "code",
   "execution_count": null,
   "id": "69540911",
   "metadata": {},
   "outputs": [],
   "source": [
    "#Q9\n",
    "\n",
    "sum=0\n",
    "l9=[1,2,3,4,5,6,7,8,9]\n",
    "for i in range(len(l9)):\n",
    "    sum+=l9[i]\n",
    "print(\"sum=\",sum)"
   ]
  },
  {
   "cell_type": "code",
   "execution_count": null,
   "id": "4958f2f3",
   "metadata": {},
   "outputs": [],
   "source": [
    "#Q10\n",
    "\n",
    "multi=1\n",
    "l10=[1,2,3,4,56,7,9]\n",
    "for i in range(len(l10)):\n",
    "    multi*=l10[i]\n",
    "print('multi=',multi)"
   ]
  }
 ],
 "metadata": {
  "kernelspec": {
   "display_name": "Python 3 (ipykernel)",
   "language": "python",
   "name": "python3"
  },
  "language_info": {
   "codemirror_mode": {
    "name": "ipython",
    "version": 3
   },
   "file_extension": ".py",
   "mimetype": "text/x-python",
   "name": "python",
   "nbconvert_exporter": "python",
   "pygments_lexer": "ipython3",
   "version": "3.9.7"
  }
 },
 "nbformat": 4,
 "nbformat_minor": 5
}
