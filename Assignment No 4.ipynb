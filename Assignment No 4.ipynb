{
 "cells": [
  {
   "cell_type": "code",
   "execution_count": 1,
   "id": "7d48a7b5",
   "metadata": {},
   "outputs": [
    {
     "name": "stdout",
     "output_type": "stream",
     "text": [
      "3\n"
     ]
    }
   ],
   "source": [
    "#Q1\n",
    "\n",
    "list1=[95,5,24,6,27,89,3]\n",
    "for i in range(len(list1)):\n",
    "    for j in range(len(list1)-i-1):\n",
    "        if(list1[j]>list1[j+1]):\n",
    "            t=list1[j]\n",
    "            list1[j]=list1[j+1]\n",
    "            list1[j+1]=t\n",
    "print(list1[0])"
   ]
  },
  {
   "cell_type": "code",
   "execution_count": 2,
   "id": "1d87bf79",
   "metadata": {},
   "outputs": [
    {
     "name": "stdout",
     "output_type": "stream",
     "text": [
      "95\n"
     ]
    }
   ],
   "source": [
    "#Q2\n",
    "\n",
    "list2=[95,5,24,6,27,89,3]\n",
    "for i in range(len(list2)):\n",
    "    for j in range(len(list2)-i-1):\n",
    "        if(list2[j]>list2[j+1]):\n",
    "            t=list2[j]\n",
    "            list2[j]=list2[j+1]\n",
    "            list2[j+1]=t\n",
    "print(list2[-1])\n"
   ]
  },
  {
   "cell_type": "code",
   "execution_count": 3,
   "id": "4792336a",
   "metadata": {},
   "outputs": [
    {
     "name": "stdout",
     "output_type": "stream",
     "text": [
      "89\n"
     ]
    }
   ],
   "source": [
    "#Q3\n",
    "\n",
    "list3=[95,5,24,6,27,89,3]\n",
    "for i in range(len(list3)):\n",
    "    for j in range(len(list3)-i-1):\n",
    "        if(list3[j]>list3[j+1]):\n",
    "            t=list3[j]\n",
    "            list3[j]=list3[j+1]\n",
    "            list3[j+1]=t\n",
    "print(list3[-2])\n"
   ]
  },
  {
   "cell_type": "code",
   "execution_count": 4,
   "id": "9043067c",
   "metadata": {},
   "outputs": [
    {
     "name": "stdout",
     "output_type": "stream",
     "text": [
      "Enter a number=5\n",
      "5 th largest number is: 27\n"
     ]
    },
    {
     "data": {
      "text/plain": [
       "[3, 5, 6, 24, 27, 89, 95]"
      ]
     },
     "execution_count": 4,
     "metadata": {},
     "output_type": "execute_result"
    }
   ],
   "source": [
    "#Q4\n",
    "\n",
    "#Q2\n",
    "x=int(input('Enter a number='))\n",
    "list4=[95,5,24,6,27,89,3]\n",
    "for i in range(len(list4)):\n",
    "    for j in range(len(list4)-i-1):\n",
    "        if(list4[j]>list4[j+1]):\n",
    "            t=list4[j]\n",
    "            list4[j]=list4[j+1]\n",
    "            list4[j+1]=t\n",
    "print(x,'th largest number is:',list4[x-1])\n",
    "list4"
   ]
  },
  {
   "cell_type": "code",
   "execution_count": 5,
   "id": "6fc41cd3",
   "metadata": {},
   "outputs": [
    {
     "name": "stdout",
     "output_type": "stream",
     "text": [
      "[24, 6]\n"
     ]
    }
   ],
   "source": [
    "#Q5\n",
    "l5=[]\n",
    "list5=[95,5,24,6,27,89,3]\n",
    "for i in list5:\n",
    "    if i%2==0:\n",
    "        l5.append(i)\n",
    "print(l5)"
   ]
  },
  {
   "cell_type": "code",
   "execution_count": 6,
   "id": "2e04a854",
   "metadata": {},
   "outputs": [
    {
     "name": "stdout",
     "output_type": "stream",
     "text": [
      "[95, 5, 27, 89, 3]\n"
     ]
    }
   ],
   "source": [
    "#Q6\n",
    "\n",
    "\n",
    "l6=[]\n",
    "list6=[95,5,24,6,27,89,3]\n",
    "for i in list6:\n",
    "    if i%2!=0:\n",
    "        l6.append(i)\n",
    "print(l6)"
   ]
  },
  {
   "cell_type": "code",
   "execution_count": 7,
   "id": "d7dc52e7",
   "metadata": {},
   "outputs": [
    {
     "name": "stdout",
     "output_type": "stream",
     "text": [
      "[4, 9, 78, 48, 62, 35]\n"
     ]
    }
   ],
   "source": [
    "#Q7\n",
    "\n",
    "l7=[]\n",
    "list7=[-4,-8,-6,4,9,-12,78,-65,-95,48,62,35,-9]\n",
    "for i in list7:\n",
    "    if(i>0):\n",
    "        l7.append(i)\n",
    "print(l7)"
   ]
  },
  {
   "cell_type": "code",
   "execution_count": 8,
   "id": "6ee21ef5",
   "metadata": {},
   "outputs": [
    {
     "name": "stdout",
     "output_type": "stream",
     "text": [
      "[-4, -8, -6, -12, -65, -95, -9]\n"
     ]
    }
   ],
   "source": [
    "#Q8\n",
    "\n",
    "l8=[]\n",
    "list8=[-4,-8,-6,4,9,-12,78,-65,-95,48,62,35,-9]\n",
    "for i in list8:\n",
    "    if(i<0):\n",
    "        l8.append(i)\n",
    "print(l8)"
   ]
  },
  {
   "cell_type": "code",
   "execution_count": 9,
   "id": "c1ca4e41",
   "metadata": {},
   "outputs": [
    {
     "name": "stdout",
     "output_type": "stream",
     "text": [
      "[1, 2, 3, 4, 5, 6, 7, 8, 9]\n"
     ]
    }
   ],
   "source": [
    "#Q9\n",
    "\n",
    "l9=[]\n",
    "for i in range(-10,10):\n",
    "    if i>0:\n",
    "        l9.append(i)\n",
    "print(l9)"
   ]
  },
  {
   "cell_type": "code",
   "execution_count": 4,
   "id": "86ed28e0",
   "metadata": {},
   "outputs": [
    {
     "name": "stdout",
     "output_type": "stream",
     "text": [
      "[-94, -88, -55]\n"
     ]
    }
   ],
   "source": [
    "#Q10\n",
    "list=[1,45,67,-94,-88,-55,4,0]\n",
    "neg=[]\n",
    "for i in range(len(list)):\n",
    "    if list[i]<0:\n",
    "        neg.append(list[i])\n",
    "print(neg)"
   ]
  },
  {
   "cell_type": "code",
   "execution_count": 5,
   "id": "1ff0af5a",
   "metadata": {},
   "outputs": [
    {
     "name": "stdout",
     "output_type": "stream",
     "text": [
      "[1, 45, 67, 4]\n"
     ]
    }
   ],
   "source": [
    "#Q11\n",
    "list=[1,45,67,-94,-88,-55,4,0]\n",
    "pvt=[]\n",
    "for i in range(len(list)):\n",
    "    if list[i]>0:\n",
    "        pvt.append(list[i])\n",
    "print(pvt)"
   ]
  },
  {
   "cell_type": "code",
   "execution_count": null,
   "id": "c1fae3da",
   "metadata": {},
   "outputs": [],
   "source": []
  }
 ],
 "metadata": {
  "kernelspec": {
   "display_name": "Python 3 (ipykernel)",
   "language": "python",
   "name": "python3"
  },
  "language_info": {
   "codemirror_mode": {
    "name": "ipython",
    "version": 3
   },
   "file_extension": ".py",
   "mimetype": "text/x-python",
   "name": "python",
   "nbconvert_exporter": "python",
   "pygments_lexer": "ipython3",
   "version": "3.9.7"
  }
 },
 "nbformat": 4,
 "nbformat_minor": 5
}
